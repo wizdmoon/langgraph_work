{
 "cells": [
  {
   "cell_type": "code",
   "execution_count": 1,
   "id": "35cd869d",
   "metadata": {},
   "outputs": [
    {
     "data": {
      "text/plain": [
       "True"
      ]
     },
     "execution_count": 1,
     "metadata": {},
     "output_type": "execute_result"
    }
   ],
   "source": [
    "from dotenv import load_dotenv\n",
    "load_dotenv()"
   ]
  },
  {
   "cell_type": "code",
   "execution_count": 2,
   "id": "32f692ca",
   "metadata": {},
   "outputs": [],
   "source": [
    "from textwrap import dedent\n",
    "from pprint import pprint"
   ]
  },
  {
   "cell_type": "code",
   "execution_count": 3,
   "id": "ece5819b",
   "metadata": {},
   "outputs": [
    {
     "name": "stdout",
     "output_type": "stream",
     "text": [
      "{'url': 'https://mashija.com/%EC%8A%A4%ED%85%8C%EC%9D%B4%ED%81%AC%EC%99%80-%EC%96%B4%EC%9A%B8%EB%A6%AC%EB%8A%94-%EC%B5%9C%EA%B3%A0%EC%9D%98-%EC%99%80%EC%9D%B8-%EB%AC%B4%EC%97%87%EC%9D%84-%EA%B3%A0%EB%A5%BC-%EA%B2%83%EC%9D%B8/', 'content': '# 스테이크와 어울리는 최고의 와인: 무엇을 고를 것인가?\\n\\n카베르네 소비뇽(Cabernet Sauvignon) 및 말벡(Malbec)과 같은 전형적인 선택부터 더 가벼운 레드 와인, 심지어 화이트 와인과 맛있는 스테이크를 페어링하는 방법까지, 우리의 아카이브에서 가져온 최고의 조언과 최근 디캔터 전문가가 추천한 와인을 소개한다.\\n\\n<스테이크를 곁들인 레드 와인을 위한 5가지 전형적인 선택>\\n\\n• 카베르네 소비뇽(Cabernet Sauvignon)  \\n• 말벡(Malbec)  \\n• 그르나슈/쉬라즈 블렌드(Grenache / Shiraz blends)  \\n• 시라/쉬라즈(Syrah / Shiraz)  \\n• 산지오베제(Sangiovese)\\n\\n육즙이 풍부한 스테이크와 맛있는 와인이 있는 저녁 식사는 적어도 고기 애호가들에게 인생의 큰 즐거움일 것이다. [...] ‘멋지고 생동감 넘치는 카베르네 프랑(Cabernet Franc)은 어떤가? 아니면 카리냥(Carignan), 쌩소(Cinsault) 또는 서늘한 기후에서 생산한 시라(Syrah)는 어떨까? DWWA 칠레 지역 의장이자 Decanter Retailer Awards 회장인 리차즈는 “풀바디하지만 우아한 로제(rosé)도 따뜻한 날에는 잘 어울린다.”라고 말했다.\\n\\n그는 바디감과 질감이 있지만 스테이크 저녁 식사 중에 미각을 상쾌하게 할 수 있는 레드 와인을 즐긴다고 말하며, ‘스테이크의 리스크은 ‘무거운 육류 맛 = 무거운 와인’이라고 생각하는 것이다.’라고 말했다.\\n\\n– 피노 누아(Pinot Noir)는 스테이크와 어울리는가? –\\n\\n대부분의 피노 누아 와인은 스펙트럼의 라이트에서 미디엄 바디에 위치하는 경향이 있으므로, 그 프로필은 종종 더 가벼운 스타일의 육류와 페어링이 주를 이룬다. [...] 와인과 음식 페어링에서 새로운 시도를 하는 것은 항상 재미있지만, 특별한 스테이크 저녁 식사를 준비할 때 고려해야 할 몇 가지 스타일과 주의사항이 있다.\\n\\n<스테이크에 곁들이는 레드 와인>\\n\\n이 포도 품종을 세계 와인 무대에 재등장시키고 고품질 쇠고기에 대한 국가의 명성을 가진 아르헨티나 덕분에, 말벡 레드 와인은 스테이크와 함께 고전적인 매칭이 되었다.\\n\\n말벡의 풍부한 짙은 과일의 특징과 자연스러운 타닌은 일반적으로 좋은 스테이크와 잘 어울린다고 여겨지지만, 일부 전문가들은 더 신선한 스타일을 찾는 것을 제안한다.\\n\\n2018년 디캔터 월드 와인 어워드(Decanter World Wine Awards)에서 아르헨티나 지역 의장이었던 남미 와인 전문가이자 저널리스트인 파트리시오 타피아(Patricio Tapia)는 ‘나는 오크가 적고 신선한 과일과 더 좋은 산도를 가진 ‘뉴 웨이브(new wave)’ 말벡을 선택하는 경향이 있다.’라고 말한다.'}\n",
      "----------------------------------------------------------------------------------------------------\n",
      "{'url': 'https://m.blog.naver.com/wineislikeacat/223096696241', 'content': '카베르네 소비뇽(Carbernet Sauvignon), 시라(Syrah) 품종을 추천드려요!\\n\\n\\u200b\\n\\n존재하지 않는 이미지입니다.\\n\\n안심 스테이크와 어울리는 와인\\n\\n> 안심 스테이크와 어울리는 와인 품종은? 산지오베제!\\n\\n고기 본연의 맛을 즐기기 가장 좋은 부위로 꼽히는 안심은\\n\\n등심 안쪽에 위치해 있어 운동량이 적기 때문에 소고기 중 육질이 가장 부드럽습니다.\\n\\n지방이 거의 없기 때문에 고기 자체의 맛을 가장 잘 느낄 수 있는 것이죠.\\n\\n\\u200b\\n\\n이와 어울리는 품종은 산도가 높은 편에 속해 시큼한 맛으로 안심의 감칠맛을 더해주는\\n\\n이탈리아의 산지오베제(Sangiovege)를 추천드릴 수 있습니다.\\n\\n\\u200b\\n\\n존재하지 않는 이미지입니다.\\n\\n갈비살과 어울리는 와인\\n\\n> 갈비살과 어울리는 와인 품종은? 말벡, 카베르네 소비뇽!\\n\\n갈비뼈에 붙어있는 살인 갈비살은\\n\\n뼈에서 나오는 골즙이 육즙과 어우러져 풍미가 좋죠.\\n\\n등심과 비슷한 맛이지만 더 질긴 편에 속합니다.\\n\\n\\u200b'}\n",
      "----------------------------------------------------------------------------------------------------\n"
     ]
    }
   ],
   "source": [
    "from langchain_community.tools import TavilySearchResults\n",
    "\n",
    "query = '스테이크와 어울리는 와인을 추천해주세요.'\n",
    "\n",
    "web_search = TavilySearchResults(max_results=2)\n",
    "\n",
    "search_results = web_search.invoke(query)\n",
    "\n",
    "for result in search_results:\n",
    "    print(result)\n",
    "    print('-'*100)"
   ]
  },
  {
   "cell_type": "code",
   "execution_count": 5,
   "id": "97950775",
   "metadata": {},
   "outputs": [
    {
     "name": "stdout",
     "output_type": "stream",
     "text": [
      "<class 'langchain_community.tools.tavily_search.tool.TavilySearchResults'>\n"
     ]
    }
   ],
   "source": [
    "print(type(web_search))"
   ]
  },
  {
   "cell_type": "code",
   "execution_count": 6,
   "id": "617356f7",
   "metadata": {},
   "outputs": [
    {
     "name": "stdout",
     "output_type": "stream",
     "text": [
      "tavily_search_results_json\n"
     ]
    }
   ],
   "source": [
    "print(web_search.name)"
   ]
  },
  {
   "cell_type": "code",
   "execution_count": 7,
   "id": "628f112e",
   "metadata": {},
   "outputs": [
    {
     "name": "stdout",
     "output_type": "stream",
     "text": [
      "A search engine optimized for comprehensive, accurate, and trusted results. Useful for when you need to answer questions about current events. Input should be a search query.\n"
     ]
    }
   ],
   "source": [
    "print(web_search.description)"
   ]
  },
  {
   "cell_type": "code",
   "execution_count": 4,
   "id": "9869641b",
   "metadata": {},
   "outputs": [],
   "source": [
    "from langchain_openai import ChatOpenAI\n",
    "\n",
    "llm = ChatOpenAI(model='gpt-4o-mini')\n",
    "\n",
    "llm_with_tools = llm.bind_tools(tools=[web_search])"
   ]
  },
  {
   "cell_type": "code",
   "execution_count": 9,
   "id": "08adb35d",
   "metadata": {},
   "outputs": [
    {
     "name": "stdout",
     "output_type": "stream",
     "text": [
      "AIMessage(content='안녕하세요! 어떻게 도와드릴까요?', additional_kwargs={'refusal': None}, response_metadata={'token_usage': {'completion_tokens': 11, 'prompt_tokens': 81, 'total_tokens': 92, 'completion_tokens_details': {'accepted_prediction_tokens': 0, 'audio_tokens': 0, 'reasoning_tokens': 0, 'rejected_prediction_tokens': 0}, 'prompt_tokens_details': {'audio_tokens': 0, 'cached_tokens': 0}}, 'model_name': 'gpt-4o-mini-2024-07-18', 'system_fingerprint': 'fp_560af6e559', 'finish_reason': 'stop', 'logprobs': None}, id='run--4a864769-5ec1-4f94-8cd2-e09895a36d4f-0', usage_metadata={'input_tokens': 81, 'output_tokens': 11, 'total_tokens': 92})\n",
      "----------------------------------------------------------------------------------------------------\n",
      "'안녕하세요! 어떻게 도와드릴까요?'\n",
      "----------------------------------------------------------------------------------------------------\n",
      "[]\n",
      "----------------------------------------------------------------------------------------------------\n"
     ]
    }
   ],
   "source": [
    "query = '안녕하세요'\n",
    "ai_msg = llm_with_tools.invoke(query)\n",
    "\n",
    "pprint(ai_msg)\n",
    "print('-'*100)\n",
    "pprint(ai_msg.content)\n",
    "print('-'*100)\n",
    "pprint(ai_msg.tool_calls)\n",
    "print('-'*100)"
   ]
  },
  {
   "cell_type": "code",
   "execution_count": 10,
   "id": "4ca2354a",
   "metadata": {},
   "outputs": [
    {
     "name": "stdout",
     "output_type": "stream",
     "text": [
      "AIMessage(content='', additional_kwargs={'tool_calls': [{'id': 'call_rKzha7ZtSBhxlXUyCBE3eaRE', 'function': {'arguments': '{\"query\":\"스테이크와 어울리는 와인 추천\"}', 'name': 'tavily_search_results_json'}, 'type': 'function'}], 'refusal': None}, response_metadata={'token_usage': {'completion_tokens': 27, 'prompt_tokens': 91, 'total_tokens': 118, 'completion_tokens_details': {'accepted_prediction_tokens': 0, 'audio_tokens': 0, 'reasoning_tokens': 0, 'rejected_prediction_tokens': 0}, 'prompt_tokens_details': {'audio_tokens': 0, 'cached_tokens': 0}}, 'model_name': 'gpt-4o-mini-2024-07-18', 'system_fingerprint': 'fp_560af6e559', 'finish_reason': 'tool_calls', 'logprobs': None}, id='run--057793ee-be56-4f62-881f-e333c319b7b7-0', tool_calls=[{'name': 'tavily_search_results_json', 'args': {'query': '스테이크와 어울리는 와인 추천'}, 'id': 'call_rKzha7ZtSBhxlXUyCBE3eaRE', 'type': 'tool_call'}], usage_metadata={'input_tokens': 91, 'output_tokens': 27, 'total_tokens': 118})\n",
      "----------------------------------------------------------------------------------------------------\n",
      "''\n",
      "----------------------------------------------------------------------------------------------------\n",
      "[{'args': {'query': '스테이크와 어울리는 와인 추천'},\n",
      "  'id': 'call_rKzha7ZtSBhxlXUyCBE3eaRE',\n",
      "  'name': 'tavily_search_results_json',\n",
      "  'type': 'tool_call'}]\n",
      "----------------------------------------------------------------------------------------------------\n"
     ]
    }
   ],
   "source": [
    "query = '스테이크와 어울리는 와인을 추천해주세요.'\n",
    "ai_msg = llm_with_tools.invoke(query)\n",
    "\n",
    "pprint(ai_msg)\n",
    "print('-'*100)\n",
    "pprint(ai_msg.content)\n",
    "print('-'*100)\n",
    "pprint(ai_msg.tool_calls)\n",
    "print('-'*100)"
   ]
  },
  {
   "cell_type": "code",
   "execution_count": 11,
   "id": "a462517e",
   "metadata": {},
   "outputs": [
    {
     "data": {
      "text/plain": [
       "{'name': 'tavily_search_results_json',\n",
       " 'args': {'query': '스테이크와 어울리는 와인 추천'},\n",
       " 'id': 'call_rKzha7ZtSBhxlXUyCBE3eaRE',\n",
       " 'type': 'tool_call'}"
      ]
     },
     "execution_count": 11,
     "metadata": {},
     "output_type": "execute_result"
    }
   ],
   "source": [
    "tool_call = ai_msg.tool_calls[0]\n",
    "tool_call"
   ]
  },
  {
   "cell_type": "code",
   "execution_count": null,
   "id": "c436bb15",
   "metadata": {},
   "outputs": [],
   "source": [
    "tool_message = web_search.invoke(tool_call)\n",
    "\n",
    "print(tool_message)"
   ]
  },
  {
   "cell_type": "code",
   "execution_count": null,
   "id": "4d071702",
   "metadata": {},
   "outputs": [
    {
     "name": "stdout",
     "output_type": "stream",
     "text": [
      "('[{\"url\": '\n",
      " '\"https://mashija.com/%EC%8A%A4%ED%85%8C%EC%9D%B4%ED%81%AC%EC%99%80-%EC%96%B4%EC%9A%B8%EB%A6%AC%EB%8A%94-%EC%B5%9C%EA%B3%A0%EC%9D%98-%EC%99%80%EC%9D%B8-%EB%AC%B4%EC%97%87%EC%9D%84-%EA%B3%A0%EB%A5%BC-%EA%B2%83%EC%9D%B8/\", '\n",
      " '\"content\": \"# 스테이크와 어울리는 최고의 와인: 무엇을 고를 것인가?\\\\n\\\\n카베르네 소비뇽(Cabernet '\n",
      " 'Sauvignon) 및 말벡(Malbec)과 같은 전형적인 선택부터 더 가벼운 레드 와인, 심지어 화이트 와인과 맛있는 스테이크를 '\n",
      " '페어링하는 방법까지, 우리의 아카이브에서 가져온 최고의 조언과 최근 디캔터 전문가가 추천한 와인을 소개한다.\\\\n\\\\n<스테이크를 곁들인 '\n",
      " '레드 와인을 위한 5가지 전형적인 선택>\\\\n\\\\n• 카베르네 소비뇽(Cabernet Sauvignon)  \\\\n• 말벡(Malbec)  '\n",
      " '\\\\n• 그르나슈/쉬라즈 블렌드(Grenache / Shiraz blends)  \\\\n• 시라/쉬라즈(Syrah / Shiraz)  '\n",
      " '\\\\n• 산지오베제(Sangiovese)\\\\n\\\\n육즙이 풍부한 스테이크와 맛있는 와인이 있는 저녁 식사는 적어도 고기 애호가들에게 '\n",
      " '인생의 큰 즐거움일 것이다. [...] 와인과 음식 페어링에서 새로운 시도를 하는 것은 항상 재미있지만, 특별한 스테이크 저녁 식사를 '\n",
      " '준비할 때 고려해야 할 몇 가지 스타일과 주의사항이 있다.\\\\n\\\\n<스테이크에 곁들이는 레드 와인>\\\\n\\\\n이 포도 품종을 세계 와인 '\n",
      " '무대에 재등장시키고 고품질 쇠고기에 대한 국가의 명성을 가진 아르헨티나 덕분에, 말벡 레드 와인은 스테이크와 함께 고전적인 매칭이 '\n",
      " '되었다.\\\\n\\\\n말벡의 풍부한 짙은 과일의 특징과 자연스러운 타닌은 일반적으로 좋은 스테이크와 잘 어울린다고 여겨지지만, 일부 '\n",
      " '전문가들은 더 신선한 스타일을 찾는 것을 제안한다.\\\\n\\\\n2018년 디캔터 월드 와인 어워드(Decanter World Wine '\n",
      " 'Awards)에서 아르헨티나 지역 의장이었던 남미 와인 전문가이자 저널리스트인 파트리시오 타피아(Patricio Tapia)는 ‘나는 '\n",
      " '오크가 적고 신선한 과일과 더 좋은 산도를 가진 ‘뉴 웨이브(new wave)’ 말벡을 선택하는 경향이 있다.’라고 말한다. [...] '\n",
      " '‘멋지고 생동감 넘치는 카베르네 프랑(Cabernet Franc)은 어떤가? 아니면 카리냥(Carignan), 쌩소(Cinsault) '\n",
      " '또는 서늘한 기후에서 생산한 시라(Syrah)는 어떨까? DWWA 칠레 지역 의장이자 Decanter Retailer Awards 회장인 '\n",
      " '리차즈는 “풀바디하지만 우아한 로제(rosé)도 따뜻한 날에는 잘 어울린다.”라고 말했다.\\\\n\\\\n그는 바디감과 질감이 있지만 스테이크 '\n",
      " '저녁 식사 중에 미각을 상쾌하게 할 수 있는 레드 와인을 즐긴다고 말하며, ‘스테이크의 리스크은 ‘무거운 육류 맛 = 무거운 와인’이라고 '\n",
      " '생각하는 것이다.’라고 말했다.\\\\n\\\\n– 피노 누아(Pinot Noir)는 스테이크와 어울리는가? –\\\\n\\\\n대부분의 피노 누아 '\n",
      " '와인은 스펙트럼의 라이트에서 미디엄 바디에 위치하는 경향이 있으므로, 그 프로필은 종종 더 가벼운 스타일의 육류와 페어링이 주를 '\n",
      " '이룬다.\"}, {\"url\": '\n",
      " '\"https://alcohol.hobby-tech.com/entry/%EC%8A%A4%ED%85%8C%EC%9D%B4%ED%81%AC%EC%99%80-%EC%B0%B0%EB%96%A1%EA%B6%81%ED%95%A9-%EC%8A%A4%ED%85%8C%EC%9D%B4%ED%81%AC%EC%97%90-%EC%96%B4%EC%9A%B8%EB%A6%AC%EB%8A%94-%EC%99%80%EC%9D%B8-5%EA%B0%80%EC%A7%80\", '\n",
      " '\"content\": \"• 4. 메를로 (Merlot) – 부드럽고 균형 잡힌 와인\\\\n\\\\n• 5. 진판델 (Zinfandel) – '\n",
      " '달콤한 향과 강한 바디감\\\\n\\\\n• 어떤 와인을 선택해야 할까?\\\\n\\\\n스테이크를 제대로 즐기려면 와인 선택이 중요합니다. 고기의 '\n",
      " '종류와 조리법에 따라 어울리는 와인이 달라지는데요. 어떤 와인을 선택해야 풍미를 극대화할 수 있을까요? 오늘은 스테이크와 가장 잘 '\n",
      " '어울리는 와인 5가지를 소개합니다.\\\\n\\\\n  \\\\n\\\\n1. 카베르네 소비뇽 (Cabernet Sauvignon) – 스테이크 와인의 '\n",
      " '대표주자\\\\n\\\\nImage 3Image 4\\\\n\\\\n추천 이유:\\\\n\\\\n카베르네 소비뇽은 강한 탄닌과 풍부한 바디감이 특징인 레드 '\n",
      " '와인입니다. 이는 스테이크의 기름진 육즙과 균형을 이루며, 고기의 감칠맛을 더욱 살려줍니다.\\\\n\\\\n어울리는 스테이크:\\\\n\\\\n   '\n",
      " '리브아이 스테이크\\\\n   뉴욕 스트립\\\\n   티본 스테이크\\\\n\\\\n추천 와인:\\\\n\\\\n   나파 밸리 카베르네 소비뇽\\\\n   '\n",
      " '샤또 마고 (Château Margaux) [...] 안심 스테이크 (필레 미뇽)\\\\n   티본 스테이크\\\\n\\\\n추천 '\n",
      " '와인:\\\\n\\\\n   아르헨티나 멘도사 말벡\\\\n   카호르 말벡 (프랑스)\\\\n\\\\n특히 부드러운 안심 스테이크와 함께 즐기면 와인의 '\n",
      " '깊은 과일향과 육즙이 환상적인 조화를 이룹니다.\\\\n\\\\n  \\\\n\\\\n4. 메를로 (Merlot) – 부드럽고 균형 잡힌 '\n",
      " '와인\\\\n\\\\nImage 10Image 11Image 12\\\\n\\\\n추천 이유:\\\\n\\\\n메를로는 탄닌이 상대적으로 적고 부드러운 질감을 '\n",
      " '가지고 있어 고기의 풍미를 자연스럽게 살려주는 와인입니다. 무겁지 않으면서도 적절한 바디감을 가지고 있어 누구나 부담 없이 즐길 수 '\n",
      " '있습니다.\\\\n\\\\n어울리는 스테이크:\\\\n\\\\n   등심 스테이크\\\\n   미디엄 레어 스테이크\\\\n\\\\n추천 와인:\\\\n\\\\n   '\n",
      " '보르도 우안 (생테밀리옹, 뽀므롤)\\\\n   캘리포니아 메를로\\\\n\\\\n메를로는 너무 강한 탄닌을 부담스러워하는 사람들에게 적합하며, '\n",
      " '담백한 스타일의 스테이크와 잘 어울립니다.\\\\n\\\\n  \\\\n\\\\n5. 진판델 (Zinfandel) – 달콤한 향과 강한 바디감 '\n",
      " '[...] 카베르네 소비뇽은 특히 마블링이 많은 소고기 스테이크와 환상적인 조화를 이룹니다.\\\\n\\\\n  \\\\n\\\\n2. 시라/쉬라즈 '\n",
      " '(Syrah/Shiraz) – 스파이시한 풍미가 매력적인 와인\\\\n\\\\nImage 5Image 6\\\\n\\\\n추천 이유:\\\\n\\\\n시라는 '\n",
      " '과일향이 강하면서도 스파이시한 풍미가 있어, 풍부한 육즙을 가진 스테이크와 잘 어울립니다. 특히 숯불에 구운 스테이크와 궁합이 '\n",
      " '좋습니다.\\\\n\\\\n어울리는 스테이크:\\\\n\\\\n   바비큐 스테이크\\\\n   페퍼크러스트 스테이크\\\\n\\\\n추천 와인:\\\\n\\\\n   '\n",
      " '프랑스 론 밸리 시라\\\\n   호주 쉬라즈 (펜폴즈 그랜지)\\\\n\\\\n시라는 그릴 자국이 남은 스모키한 스테이크와 환상적인 페어링을 '\n",
      " '보여줍니다.\\\\n\\\\n  \\\\n\\\\n3. 말벡 (Malbec) – 풍부한 과일 향과 부드러운 탄닌\\\\n\\\\nImage 7Image '\n",
      " '8Image 9\\\\n\\\\n추천 이유:\\\\n\\\\n말벡은 블랙베리와 자두 같은 과일향이 강하면서도 탄닌이 부드러운 레드 와인입니다. 고기와 '\n",
      " '함께 마시면 풍미가 더욱 살아나면서 균형 잡힌 조화를 이룹니다.\\\\n\\\\n어울리는 스테이크:\"}]')\n"
     ]
    }
   ],
   "source": [
    "pprint(tool_message.content)"
   ]
  },
  {
   "cell_type": "code",
   "execution_count": 5,
   "id": "48c6d297",
   "metadata": {},
   "outputs": [
    {
     "name": "stdout",
     "output_type": "stream",
     "text": [
      "tool_msgs: \n",
      " [ToolMessage(content='[{\"url\": \"https://www.shilladfs.com/estore/kr/ko/b/moetchandon\", \"content\": \"1743년 창립된 모엣 & 샹동은 모든 상황에 어울리는 다양하고 개성 넘치는 와인을 생산하며 전 세계에 샴페인을 널리 알렸다.\\\\\"샴페인의 마법을 세상에 나눈다\\\\\"는 신조에 따라 인생의 소중한 때에 함께하는 샴페인으로 모든 축배에 빛을 더한다.\\\\n\\\\n## 브랜드 베스트\\\\n\\\\n 상품상세 이동;)\\\\n\\\\n  모엣 샹동\\\\n\\\\n  모엣 샹동 로제 임페리얼 750ml\\\\n\\\\n  25%\\\\n  $61\\\\n\\\\n  $45.75\\\\n  63,935원\\\\n 상품상세 이동;)\\\\n\\\\n  모엣 샹동\\\\n\\\\n  모엣 샹동 로제 임페리얼 750ml\\\\n\\\\n  30%\\\\n  $79\\\\n\\\\n  $55.3\\\\n  77,281원\\\\n 상품상세 이동;)\\\\n\\\\n  모엣 샹동\\\\n\\\\n  모엣 샹동 리저브 임페리얼 750ml\\\\n\\\\n  30%\\\\n  $66\\\\n\\\\n  $46.2\\\\n  64,564원\\\\n\\\\n  5.0\\\\n\\\\n  2건\\\\n 상품상세 이동;)\\\\n\\\\n  모엣 샹동\\\\n\\\\n  모엣 샹동 그랑 빈티지 750ml\\\\n\\\\n  25%\\\\n  $93\\\\n\\\\n  $69.75\\\\n  97,475원\\\\n 상품상세 이동;)\\\\n\\\\n  모엣 샹동 [...] 모엣 샹동 아이스 임페리얼 750ml\\\\n\\\\n  25%\\\\n  $76\\\\n\\\\n  $57\\\\n  79,657원\\\\n\\\\n## 매장 안내\\\\n\\\\n 주소\\\\n\\\\n  서울특별시 중구 동호로 249\\\\n\\\\n  대표번호\\\\n\\\\n  02-2230-1158 ※ 운영시간: 09:00 ~ 18:00 (연중무휴)\\\\n\\\\n  영업시간\\\\n\\\\n  09:30 ~ 20:00 (연중무휴)\\\\n\\\\n  B1F\\\\n\\\\n필터 검색 결과가 초기화됩니다.\\\\n\\\\n필터검색\\\\n\\\\n카테고리\\\\n\\\\n 주류\\\\n  5\\\\n  열림/닫힘;)\\\\n\\\\n  + 와인/샴페인;)\\\\n\\\\n가격대;)\\\\n\\\\n$45\\\\n\\\\n$70\\\\n\\\\n혜택\\\\n\\\\n할인율\\\\n\\\\n품절여부\\\\n\\\\n선택된 필터\\\\n\\\\n총 5개\\\\n\\\\n선택한 조건에 맞는 검색결과가 없습니다.\\\\n\\\\n필터를 다시 선택해 주세요.\\\\n\\\\n 상품 상세 이동;)\\\\n\\\\n  모엣 샹동\\\\n\\\\n  모엣 샹동 로제 임페리얼 750ml\\\\n\\\\n  25%$61\\\\n\\\\n  $45.7563,935원\\\\n\\\\n  + 신상품\\\\n  + 3시간전\\\\n 상품 상세 이동;)\\\\n\\\\n  모엣 샹동\\\\n\\\\n  모엣 샹동 로제 임페리얼 750ml\\\\n\\\\n  30%$79\\\\n\\\\n  $55.377,281원 [...] + 핫세일\\\\n 상품 상세 이동;)\\\\n\\\\n  모엣 샹동\\\\n\\\\n  모엣 샹동 리저브 임페리얼 750ml\\\\n\\\\n  30%$66\\\\n\\\\n  $46.264,564원\\\\n\\\\n  5.02건\\\\n\\\\n  + 핫세일\\\\n 상품 상세 이동;)\\\\n\\\\n  모엣 샹동\\\\n\\\\n  모엣 샹동 그랑 빈티지 750ml\\\\n\\\\n  25%$93\\\\n\\\\n  $69.7597,475원\\\\n 상품 상세 이동;)\\\\n\\\\n  모엣 샹동\\\\n\\\\n  모엣 샹동 아이스 임페리얼 750ml\\\\n\\\\n  25%$76\\\\n\\\\n  $5779,657원\\\\n\\\\n1;)\\\\n\\\\n비교하실 상품을 선택해주세요.\\\\n\\\\n## 상품 비교하기\\\\n\\\\n닫기;)\\\\n\\\\n 정상가\\\\n 적립금 적용가\\\\n 즉시 사용/적립 적립금\\\\n 쿠폰\\\\n 사은품\\\\n 만족도\\\\n\\\\n 상품 적립금은 해당 상품의 ‘즉시 사용 가능한 적립금’ 입니다.\\\\n 상품비교는 동일 카테고리 내에서 최대 10개까지 가능합니다.\\\\n 로그아웃을 하거나 웹 브라우저를 닫았을 경우 자동으로 초기화 됩니다.\\\\n\\\\n선택상품 (0개)\\\\n\\\\n닫기\\\\n\\\\n# 이메일무단수집거부\\\\n\\\\n이메일 주소 무단 수집을 거부합니다.\"}, {\"url\": \"https://www.wine21.com/13_search/wine_view.html?Idx=149862\", \"content\": \"#### 모엣 샹동 임페리얼\\\\n\\\\nMoet & Chandon Imperial\\\\n\\\\n| 빈티지 | 가격 (용량) |\\\\n --- |\\\\n| NV | 75,000 원 (750ml) |\\\\n\\\\n※ 수입사가 제공한 가격으로 판매처별로 가격이 다를 수 있습니다.\\\\n\\\\n이전\\\\n\\\\n다음 [...] 프랑스(France)\\\\n  샹빠뉴 (Champagne)\\\\n\\\\n  스파클링\\\\n  가격정보없음 (750ml)\\\\n  3.3\\\\n 모엣 샹동 Moet & Chandon)\\\\n\\\\n  ### 돔 페리뇽 P2 Dom Perignon P2)\\\\n\\\\n  프랑스(France)\\\\n  샹빠뉴 (Champagne)\\\\n\\\\n  스파클링\\\\n  800,000원 (750ml)\\\\n  4.6\\\\n 모엣 샹동 Moet & Chandon)\\\\n\\\\n  ### 돔 페리뇽 외노테크 Dom Perignon Oenotheque)\\\\n\\\\n  프랑스(France)\\\\n  샹빠뉴 (Champagne)\\\\n\\\\n  스파클링\\\\n  가격정보없음 (750ml)\\\\n  3.5\\\\n\\\\n더보기\\\\n\\\\n유사 와인 추천(774)\\\\n\\\\n 루이 로드레 Louis Roederer)\\\\n\\\\n  ### 루이 로드레, 컬렉션 245 Louis Roederer, Collection 245)\\\\n\\\\n  프랑스(France)\\\\n  샹빠뉴(Champagne) [...] 스파클링\\\\n  208,000원 (750ml)\\\\n  0\\\\n 필립 글라비에 Philippe Glavier)\\\\n\\\\n  ### 필립 글라비에, 이딜 셀레스트 Philippe Glavier, Idylle Céleste)\\\\n\\\\n  프랑스(France)\\\\n  샹빠뉴(Champagne)\\\\n\\\\n  스파클링\\\\n  200,000원 (750ml)\\\\n  0\\\\n 에릭 타이에 Eric Taillet)\\\\n\\\\n  ### 에릭 타이에, 엑스루시비테 브륏 Eric Taillet, Exlusiv\\'T Brut)\\\\n\\\\n  프랑스(France)\\\\n  샹빠뉴(Champagne)\\\\n\\\\n  스파클링\\\\n  140,000원 (750ml)\\\\n  0\\\\n 에릭 타이에 Eric Taillet)\\\\n\\\\n  ### 에릭 타이에, 에갈리테 브륏 Eric Taillet, Egali\\'T Brut)\\\\n\\\\n  프랑스(France)\\\\n  샹빠뉴(Champagne)\\\\n\\\\n  스파클링\\\\n  110,000원 (750ml)\\\\n  0\\\\n\\\\n더보기\\\\n\\\\n -->\\\\n\\\\n 상세정보\\\\n 판매처\\\\n 테이스팅노트\\\\n 관련정보\\\\n 와인사전\"}]', name='tavily_search_results_json', tool_call_id='call_utgRSLsse3hkFMmn57riFhNW', artifact={'query': '모엣샹동 샴페인 원화 가격 2025년 9월', 'follow_up_questions': None, 'answer': None, 'images': [], 'results': [{'url': 'https://www.shilladfs.com/estore/kr/ko/b/moetchandon', 'title': '모엣 샹동 - 신라인터넷면세점', 'content': '1743년 창립된 모엣 & 샹동은 모든 상황에 어울리는 다양하고 개성 넘치는 와인을 생산하며 전 세계에 샴페인을 널리 알렸다.\"샴페인의 마법을 세상에 나눈다\"는 신조에 따라 인생의 소중한 때에 함께하는 샴페인으로 모든 축배에 빛을 더한다.\\n\\n## 브랜드 베스트\\n\\n 상품상세 이동;)\\n\\n  모엣 샹동\\n\\n  모엣 샹동 로제 임페리얼 750ml\\n\\n  25%\\n  $61\\n\\n  $45.75\\n  63,935원\\n 상품상세 이동;)\\n\\n  모엣 샹동\\n\\n  모엣 샹동 로제 임페리얼 750ml\\n\\n  30%\\n  $79\\n\\n  $55.3\\n  77,281원\\n 상품상세 이동;)\\n\\n  모엣 샹동\\n\\n  모엣 샹동 리저브 임페리얼 750ml\\n\\n  30%\\n  $66\\n\\n  $46.2\\n  64,564원\\n\\n  5.0\\n\\n  2건\\n 상품상세 이동;)\\n\\n  모엣 샹동\\n\\n  모엣 샹동 그랑 빈티지 750ml\\n\\n  25%\\n  $93\\n\\n  $69.75\\n  97,475원\\n 상품상세 이동;)\\n\\n  모엣 샹동 [...] 모엣 샹동 아이스 임페리얼 750ml\\n\\n  25%\\n  $76\\n\\n  $57\\n  79,657원\\n\\n## 매장 안내\\n\\n 주소\\n\\n  서울특별시 중구 동호로 249\\n\\n  대표번호\\n\\n  02-2230-1158 ※ 운영시간: 09:00 ~ 18:00 (연중무휴)\\n\\n  영업시간\\n\\n  09:30 ~ 20:00 (연중무휴)\\n\\n  B1F\\n\\n필터 검색 결과가 초기화됩니다.\\n\\n필터검색\\n\\n카테고리\\n\\n 주류\\n  5\\n  열림/닫힘;)\\n\\n  + 와인/샴페인;)\\n\\n가격대;)\\n\\n$45\\n\\n$70\\n\\n혜택\\n\\n할인율\\n\\n품절여부\\n\\n선택된 필터\\n\\n총 5개\\n\\n선택한 조건에 맞는 검색결과가 없습니다.\\n\\n필터를 다시 선택해 주세요.\\n\\n 상품 상세 이동;)\\n\\n  모엣 샹동\\n\\n  모엣 샹동 로제 임페리얼 750ml\\n\\n  25%$61\\n\\n  $45.7563,935원\\n\\n  + 신상품\\n  + 3시간전\\n 상품 상세 이동;)\\n\\n  모엣 샹동\\n\\n  모엣 샹동 로제 임페리얼 750ml\\n\\n  30%$79\\n\\n  $55.377,281원 [...] + 핫세일\\n 상품 상세 이동;)\\n\\n  모엣 샹동\\n\\n  모엣 샹동 리저브 임페리얼 750ml\\n\\n  30%$66\\n\\n  $46.264,564원\\n\\n  5.02건\\n\\n  + 핫세일\\n 상품 상세 이동;)\\n\\n  모엣 샹동\\n\\n  모엣 샹동 그랑 빈티지 750ml\\n\\n  25%$93\\n\\n  $69.7597,475원\\n 상품 상세 이동;)\\n\\n  모엣 샹동\\n\\n  모엣 샹동 아이스 임페리얼 750ml\\n\\n  25%$76\\n\\n  $5779,657원\\n\\n1;)\\n\\n비교하실 상품을 선택해주세요.\\n\\n## 상품 비교하기\\n\\n닫기;)\\n\\n 정상가\\n 적립금 적용가\\n 즉시 사용/적립 적립금\\n 쿠폰\\n 사은품\\n 만족도\\n\\n 상품 적립금은 해당 상품의 ‘즉시 사용 가능한 적립금’ 입니다.\\n 상품비교는 동일 카테고리 내에서 최대 10개까지 가능합니다.\\n 로그아웃을 하거나 웹 브라우저를 닫았을 경우 자동으로 초기화 됩니다.\\n\\n선택상품 (0개)\\n\\n닫기\\n\\n# 이메일무단수집거부\\n\\n이메일 주소 무단 수집을 거부합니다.', 'score': 0.5954225, 'raw_content': None}, {'url': 'https://www.wine21.com/13_search/wine_view.html?Idx=149862', 'title': '[스파클링] 모엣 샹동 임페리얼 - WINE21', 'content': \"#### 모엣 샹동 임페리얼\\n\\nMoet & Chandon Imperial\\n\\n| 빈티지 | 가격 (용량) |\\n --- |\\n| NV | 75,000 원 (750ml) |\\n\\n※ 수입사가 제공한 가격으로 판매처별로 가격이 다를 수 있습니다.\\n\\n이전\\n\\n다음 [...] 프랑스(France)\\n  샹빠뉴 (Champagne)\\n\\n  스파클링\\n  가격정보없음 (750ml)\\n  3.3\\n 모엣 샹동 Moet & Chandon)\\n\\n  ### 돔 페리뇽 P2 Dom Perignon P2)\\n\\n  프랑스(France)\\n  샹빠뉴 (Champagne)\\n\\n  스파클링\\n  800,000원 (750ml)\\n  4.6\\n 모엣 샹동 Moet & Chandon)\\n\\n  ### 돔 페리뇽 외노테크 Dom Perignon Oenotheque)\\n\\n  프랑스(France)\\n  샹빠뉴 (Champagne)\\n\\n  스파클링\\n  가격정보없음 (750ml)\\n  3.5\\n\\n더보기\\n\\n유사 와인 추천(774)\\n\\n 루이 로드레 Louis Roederer)\\n\\n  ### 루이 로드레, 컬렉션 245 Louis Roederer, Collection 245)\\n\\n  프랑스(France)\\n  샹빠뉴(Champagne) [...] 스파클링\\n  208,000원 (750ml)\\n  0\\n 필립 글라비에 Philippe Glavier)\\n\\n  ### 필립 글라비에, 이딜 셀레스트 Philippe Glavier, Idylle Céleste)\\n\\n  프랑스(France)\\n  샹빠뉴(Champagne)\\n\\n  스파클링\\n  200,000원 (750ml)\\n  0\\n 에릭 타이에 Eric Taillet)\\n\\n  ### 에릭 타이에, 엑스루시비테 브륏 Eric Taillet, Exlusiv'T Brut)\\n\\n  프랑스(France)\\n  샹빠뉴(Champagne)\\n\\n  스파클링\\n  140,000원 (750ml)\\n  0\\n 에릭 타이에 Eric Taillet)\\n\\n  ### 에릭 타이에, 에갈리테 브륏 Eric Taillet, Egali'T Brut)\\n\\n  프랑스(France)\\n  샹빠뉴(Champagne)\\n\\n  스파클링\\n  110,000원 (750ml)\\n  0\\n\\n더보기\\n\\n -->\\n\\n 상세정보\\n 판매처\\n 테이스팅노트\\n 관련정보\\n 와인사전\", 'score': 0.5923135, 'raw_content': None}], 'response_time': 1.61, 'request_id': 'a3c1ead1-e8db-4fbb-9110-d9048737cee8'})]\n",
      "----------------------------------------------------------------------------------------------------\n",
      "('현재 모엣샹동 샴페인의 원화 가격은 다음과 같습니다:\\n'\n",
      " '\\n'\n",
      " '1. **모엣샹동 임페리얼 (750ml)**: 75,000원\\n'\n",
      " '   - [출처](https://www.wine21.com/13_search/wine_view.html?Idx=149862)\\n'\n",
      " '\\n'\n",
      " '2. **모엣샹동 로제 임페리얼 (750ml)**:\\n'\n",
      " '   - 25% 할인된 가격: 63,935원\\n'\n",
      " '   - 30% 할인된 가격: 77,281원\\n'\n",
      " '   - [출처](https://www.shilladfs.com/estore/kr/ko/b/moetchandon)\\n'\n",
      " '\\n'\n",
      " '3. **모엣샹동 리저브 임페리얼 (750ml)**: 64,564원\\n'\n",
      " '   - [출처](https://www.shilladfs.com/estore/kr/ko/b/moetchandon)\\n'\n",
      " '\\n'\n",
      " '4. **모엣샹동 그랑 빈티지 (750ml)**: 97,475원\\n'\n",
      " '   - [출처](https://www.shilladfs.com/estore/kr/ko/b/moetchandon)\\n'\n",
      " '\\n'\n",
      " '5. **모엣샹동 아이스 임페리얼 (750ml)**: 79,657원\\n'\n",
      " '   - [출처](https://www.shilladfs.com/estore/kr/ko/b/moetchandon)\\n'\n",
      " '\\n'\n",
      " '각 가격은 판매처에 따라 다를 수 있으니 참고하시기 바랍니다.')\n"
     ]
    }
   ],
   "source": [
    "from datetime import datetime\n",
    "from langchain_core.prompts import ChatPromptTemplate\n",
    "from langchain_core.runnables import chain\n",
    "\n",
    "today = datetime.today().strftime('%Y-%m-%d')\n",
    "\n",
    "prompt = ChatPromptTemplate([\n",
    "    ('system', f\"You are helpful AI assistant. Today's date is {today}.\"),\n",
    "    ('human', '{user_input}'),\n",
    "    ('placeholder', '{message}')\n",
    "])\n",
    "\n",
    "llm = ChatOpenAI(model='gpt-4o-mini')\n",
    "\n",
    "llm_with_tools = llm.bind_tools(tools=[web_search])\n",
    "\n",
    "llm_chain = prompt | llm_with_tools\n",
    "\n",
    "@chain\n",
    "def web_search_chain(user_input: str):\n",
    "    input_ = {'user_input': user_input}\n",
    "    ai_msg = llm_chain.invoke(input_)\n",
    "    \n",
    "    tool_msgs = web_search.batch(ai_msg.tool_calls)\n",
    "    print('tool_msgs: \\n', tool_msgs)\n",
    "    print('-'*100)\n",
    "    \n",
    "    return llm_chain.invoke({**input_, 'message': [ai_msg, *tool_msgs]})\n",
    "\n",
    "response = web_search_chain.invoke('오늘 모엣샹동 샴페인의 원화 가격은 얼마인가요?')\n",
    "\n",
    "pprint(response.content)"
   ]
  },
  {
   "cell_type": "code",
   "execution_count": 6,
   "id": "54d52055",
   "metadata": {},
   "outputs": [],
   "source": [
    "# 도구 정의하기\n",
    "from langchain_community.tools import TavilySearchResults\n",
    "from langchain_core.tools import tool\n",
    "from typing import List\n",
    "\n",
    "@tool\n",
    "def search_web(qeury: str) -> str:\n",
    "    \"\"\"Searches the internet for information that does not exist in the database or \n",
    "    for the latest information.\"\"\"\n",
    "\n",
    "    tavily_search = TavilySearchResults(max_results=2)\n",
    "    docs = tavily_search.invoke(query)\n",
    "\n",
    "    formatted_docs = \"\\n---\\n\".join([\n",
    "        f'<Document href=\"{doc[\"url\"]}\"/>\\n{doc[\"content\"]}\\n</Document>'\n",
    "        for doc in docs\n",
    "        ])\n",
    "       \n",
    "    if len(formatted_docs) > 0:\n",
    "        return formatted_docs\n",
    "    \n",
    "    return \"관련 정보를 찾을 수 없습니다.\""
   ]
  },
  {
   "cell_type": "code",
   "execution_count": 21,
   "id": "b90016a8",
   "metadata": {},
   "outputs": [
    {
     "name": "stdout",
     "output_type": "stream",
     "text": [
      "<Document href=\"https://mashija.com/%EC%8A%A4%ED%85%8C%EC%9D%B4%ED%81%AC%EC%99%80-%EC%96%B4%EC%9A%B8%EB%A6%AC%EB%8A%94-%EC%B5%9C%EA%B3%A0%EC%9D%98-%EC%99%80%EC%9D%B8-%EB%AC%B4%EC%97%87%EC%9D%84-%EA%B3%A0%EB%A5%BC-%EA%B2%83%EC%9D%B8/\"/>\n",
      "# 스테이크와 어울리는 최고의 와인: 무엇을 고를 것인가?\n",
      "\n",
      "카베르네 소비뇽(Cabernet Sauvignon) 및 말벡(Malbec)과 같은 전형적인 선택부터 더 가벼운 레드 와인, 심지어 화이트 와인과 맛있는 스테이크를 페어링하는 방법까지, 우리의 아카이브에서 가져온 최고의 조언과 최근 디캔터 전문가가 추천한 와인을 소개한다.\n",
      "\n",
      "<스테이크를 곁들인 레드 와인을 위한 5가지 전형적인 선택>\n",
      "\n",
      "• 카베르네 소비뇽(Cabernet Sauvignon)  \n",
      "• 말벡(Malbec)  \n",
      "• 그르나슈/쉬라즈 블렌드(Grenache / Shiraz blends)  \n",
      "• 시라/쉬라즈(Syrah / Shiraz)  \n",
      "• 산지오베제(Sangiovese)\n",
      "\n",
      "육즙이 풍부한 스테이크와 맛있는 와인이 있는 저녁 식사는 적어도 고기 애호가들에게 인생의 큰 즐거움일 것이다. [...] 와인과 음식 페어링에서 새로운 시도를 하는 것은 항상 재미있지만, 특별한 스테이크 저녁 식사를 준비할 때 고려해야 할 몇 가지 스타일과 주의사항이 있다.\n",
      "\n",
      "<스테이크에 곁들이는 레드 와인>\n",
      "\n",
      "이 포도 품종을 세계 와인 무대에 재등장시키고 고품질 쇠고기에 대한 국가의 명성을 가진 아르헨티나 덕분에, 말벡 레드 와인은 스테이크와 함께 고전적인 매칭이 되었다.\n",
      "\n",
      "말벡의 풍부한 짙은 과일의 특징과 자연스러운 타닌은 일반적으로 좋은 스테이크와 잘 어울린다고 여겨지지만, 일부 전문가들은 더 신선한 스타일을 찾는 것을 제안한다.\n",
      "\n",
      "2018년 디캔터 월드 와인 어워드(Decanter World Wine Awards)에서 아르헨티나 지역 의장이었던 남미 와인 전문가이자 저널리스트인 파트리시오 타피아(Patricio Tapia)는 ‘나는 오크가 적고 신선한 과일과 더 좋은 산도를 가진 ‘뉴 웨이브(new wave)’ 말벡을 선택하는 경향이 있다.’라고 말한다. [...] ‘멋지고 생동감 넘치는 카베르네 프랑(Cabernet Franc)은 어떤가? 아니면 카리냥(Carignan), 쌩소(Cinsault) 또는 서늘한 기후에서 생산한 시라(Syrah)는 어떨까? DWWA 칠레 지역 의장이자 Decanter Retailer Awards 회장인 리차즈는 “풀바디하지만 우아한 로제(rosé)도 따뜻한 날에는 잘 어울린다.”라고 말했다.\n",
      "\n",
      "그는 바디감과 질감이 있지만 스테이크 저녁 식사 중에 미각을 상쾌하게 할 수 있는 레드 와인을 즐긴다고 말하며, ‘스테이크의 리스크은 ‘무거운 육류 맛 = 무거운 와인’이라고 생각하는 것이다.’라고 말했다.\n",
      "\n",
      "– 피노 누아(Pinot Noir)는 스테이크와 어울리는가? –\n",
      "\n",
      "대부분의 피노 누아 와인은 스펙트럼의 라이트에서 미디엄 바디에 위치하는 경향이 있으므로, 그 프로필은 종종 더 가벼운 스타일의 육류와 페어링이 주를 이룬다.\n",
      "</Document>\n",
      "---\n",
      "<Document href=\"https://m.blog.naver.com/wineislikeacat/223096696241\"/>\n",
      "카베르네 소비뇽(Carbernet Sauvignon), 시라(Syrah) 품종을 추천드려요!\n",
      "\n",
      "​\n",
      "\n",
      "존재하지 않는 이미지입니다.\n",
      "\n",
      "안심 스테이크와 어울리는 와인\n",
      "\n",
      "> 안심 스테이크와 어울리는 와인 품종은? 산지오베제!\n",
      "\n",
      "고기 본연의 맛을 즐기기 가장 좋은 부위로 꼽히는 안심은\n",
      "\n",
      "등심 안쪽에 위치해 있어 운동량이 적기 때문에 소고기 중 육질이 가장 부드럽습니다.\n",
      "\n",
      "지방이 거의 없기 때문에 고기 자체의 맛을 가장 잘 느낄 수 있는 것이죠.\n",
      "\n",
      "​\n",
      "\n",
      "이와 어울리는 품종은 산도가 높은 편에 속해 시큼한 맛으로 안심의 감칠맛을 더해주는\n",
      "\n",
      "이탈리아의 산지오베제(Sangiovege)를 추천드릴 수 있습니다.\n",
      "\n",
      "​\n",
      "\n",
      "존재하지 않는 이미지입니다.\n",
      "\n",
      "갈비살과 어울리는 와인\n",
      "\n",
      "> 갈비살과 어울리는 와인 품종은? 말벡, 카베르네 소비뇽!\n",
      "\n",
      "갈비뼈에 붙어있는 살인 갈비살은\n",
      "\n",
      "뼈에서 나오는 골즙이 육즙과 어우러져 풍미가 좋죠.\n",
      "\n",
      "등심과 비슷한 맛이지만 더 질긴 편에 속합니다.\n",
      "\n",
      "​\n",
      "</Document>\n"
     ]
    }
   ],
   "source": [
    "query = '스테이크와 어울리는 와인을 추천해 주세요.'\n",
    "search_result = search_web.invoke(query)\n",
    "\n",
    "print(search_result)"
   ]
  },
  {
   "cell_type": "code",
   "execution_count": null,
   "id": "bf9e48f5",
   "metadata": {},
   "outputs": [
    {
     "name": "stdout",
     "output_type": "stream",
     "text": [
      "AIMessage(content='', additional_kwargs={'tool_calls': [{'id': 'call_CMr2SD7ASP2PykU8dIxS6Idd', 'function': {'arguments': '{\"qeury\":\"스테이크에 어울리는 와인 추천\"}', 'name': 'search_web'}, 'type': 'function'}], 'refusal': None}, response_metadata={'token_usage': {'completion_tokens': 24, 'prompt_tokens': 71, 'total_tokens': 95, 'completion_tokens_details': {'accepted_prediction_tokens': 0, 'audio_tokens': 0, 'reasoning_tokens': 0, 'rejected_prediction_tokens': 0}, 'prompt_tokens_details': {'audio_tokens': 0, 'cached_tokens': 0}}, 'model_name': 'gpt-4o-mini-2024-07-18', 'system_fingerprint': 'fp_560af6e559', 'finish_reason': 'tool_calls', 'logprobs': None}, id='run--c22a98b2-d743-4f9d-b6b2-bb07f44912c3-0', tool_calls=[{'name': 'search_web', 'args': {'qeury': '스테이크에 어울리는 와인 추천'}, 'id': 'call_CMr2SD7ASP2PykU8dIxS6Idd', 'type': 'tool_call'}], usage_metadata={'input_tokens': 71, 'output_tokens': 24, 'total_tokens': 95})\n",
      "----------------------------------------------------------------------------------------------------\n",
      "''\n",
      "----------------------------------------------------------------------------------------------------\n",
      "[{'args': {'qeury': '스테이크에 어울리는 와인 추천'},\n",
      "  'id': 'call_CMr2SD7ASP2PykU8dIxS6Idd',\n",
      "  'name': 'search_web',\n",
      "  'type': 'tool_call'}]\n",
      "----------------------------------------------------------------------------------------------------\n"
     ]
    }
   ],
   "source": [
    "llm_with_tools = llm.bind_tools(tools=[search_web])\n",
    "\n",
    "query = '스테이크와 어울리는 와인을 추천해 주세요.'\n",
    "ai_msg = llm_with_tools.invoke(query)\n",
    "\n",
    "pprint(ai_msg)\n",
    "print('-'*100)\n",
    "pprint(ai_msg.content)\n",
    "print('-'*100)\n",
    "pprint(ai_msg.tool_calls)\n",
    "print('-'*100)"
   ]
  },
  {
   "cell_type": "code",
   "execution_count": null,
   "id": "1d758ead",
   "metadata": {},
   "outputs": [
    {
     "name": "stdout",
     "output_type": "stream",
     "text": [
      "1\n"
     ]
    }
   ],
   "source": [
    "from langchain.document_loaders import TextLoader\n",
    "\n",
    "# 메뉴판 텍스트 데이터를 로드\n",
    "loader = TextLoader(\"./data/restaurant_menu.txt\", encoding=\"utf-8\")\n",
    "documents = loader.load()\n",
    "\n",
    "print(len(documents))"
   ]
  },
  {
   "cell_type": "code",
   "execution_count": 7,
   "id": "7775d819",
   "metadata": {},
   "outputs": [],
   "source": [
    "import re\n",
    "from langchain_core.documents import Document"
   ]
  },
  {
   "cell_type": "code",
   "execution_count": null,
   "id": "b4ed2103",
   "metadata": {},
   "outputs": [
    {
     "name": "stdout",
     "output_type": "stream",
     "text": [
      "총 10개의 메뉴 항목이 처리되었습니다.\n",
      "\n",
      "메뉴 번호: 1\n",
      "메뉴 이름: 시그니처 스테이크\n",
      "내용:\n",
      "1. 시그니처 스테이크\n",
      "   • 가격: ₩35,000\n",
      "   • 주요 식재료: 최상급 한우 등심, 로즈메리 감자, 그릴드 아스파라거스\n",
      "   • 설명: 셰프의 특제 시그니처 메뉴로, ...\n",
      "\n",
      "메뉴 번호: 2\n",
      "메뉴 이름: 트러플 리조또\n",
      "내용:\n",
      "2. 트러플 리조또\n",
      "   • 가격: ₩22,000\n",
      "   • 주요 식재료: 이탈리아산 아르보리오 쌀, 블랙 트러플, 파르미지아노 레지아노 치즈\n",
      "   • 설명: 크리미한 텍스처의 리조...\n"
     ]
    }
   ],
   "source": [
    "import re\n",
    "from langchain_core.documents import Document\n",
    "\n",
    "# 문서 분할 (Chunking)\n",
    "def split_menu_items(document):\n",
    "    \"\"\"\n",
    "    메뉴 항목을 분리하는 함수 \n",
    "    \"\"\"\n",
    "    # 정규표현식 정의 \n",
    "    pattern = r'(\\d+\\.\\s.*?)(?=\\n\\n\\d+\\.|$)'\n",
    "    menu_items = re.findall(pattern, document.page_content, re.DOTALL)\n",
    "    \n",
    "    # 각 메뉴 항목을 Document 객체로 변환\n",
    "    menu_documents = []\n",
    "    for i, item in enumerate(menu_items, 1):\n",
    "        # 메뉴 이름 추출\n",
    "        menu_name = item.split('\\n')[0].split('.', 1)[1].strip()\n",
    "        \n",
    "        # 새로운 Document 객체 생성\n",
    "        menu_doc = Document(\n",
    "            page_content=item.strip(),\n",
    "            metadata={\n",
    "                \"source\": document.metadata['source'],\n",
    "                \"menu_number\": i,\n",
    "                \"menu_name\": menu_name\n",
    "            }\n",
    "        )\n",
    "        menu_documents.append(menu_doc)\n",
    "    \n",
    "    return menu_documents\n",
    "\n",
    "\n",
    "# 메뉴 항목 분리 실행\n",
    "menu_documents = []\n",
    "for doc in documents:\n",
    "    menu_documents += split_menu_items(doc)\n",
    "\n",
    "# 결과 출력\n",
    "print(f\"총 {len(menu_documents)}개의 메뉴 항목이 처리되었습니다.\")\n",
    "for doc in menu_documents[:2]:\n",
    "    print(f\"\\n메뉴 번호: {doc.metadata['menu_number']}\")\n",
    "    print(f\"메뉴 이름: {doc.metadata['menu_name']}\")\n",
    "    print(f\"내용:\\n{doc.page_content[:100]}...\")"
   ]
  },
  {
   "cell_type": "code",
   "execution_count": 9,
   "id": "072b5ca1",
   "metadata": {},
   "outputs": [],
   "source": [
    "# Chroma Vectorstore를 사용하기 위한 준비\n",
    "from langchain_chroma import Chroma\n",
    "from langchain_openai import OpenAIEmbeddings\n",
    "\n",
    "embeddings_model = OpenAIEmbeddings(\n",
    "    model=\"text-embedding-3-small\", \n",
    ")"
   ]
  },
  {
   "cell_type": "code",
   "execution_count": null,
   "id": "8aa65e30",
   "metadata": {},
   "outputs": [
    {
     "name": "stderr",
     "output_type": "stream",
     "text": [
      "Failed to send telemetry event ClientStartEvent: capture() takes 1 positional argument but 3 were given\n",
      "Failed to send telemetry event ClientCreateCollectionEvent: capture() takes 1 positional argument but 3 were given\n",
      "Failed to send telemetry event CollectionQueryEvent: capture() takes 1 positional argument but 3 were given\n"
     ]
    },
    {
     "name": "stdout",
     "output_type": "stream",
     "text": [
      "검색 결과: 2개\n",
      "메뉴 번호: 1\n",
      "메뉴 이름: 시그니처 스테이크\n",
      "\n",
      "메뉴 번호: 8\n",
      "메뉴 이름: 안심 스테이크 샐러드\n",
      "\n"
     ]
    }
   ],
   "source": [
    "# Chroma Vectorstore를 사용하기 위한 준비\n",
    "from langchain_chroma import Chroma\n",
    "from langchain_openai import OpenAIEmbeddings\n",
    "\n",
    "embeddings_model = OpenAIEmbeddings(\n",
    "    model=\"text-embedding-3-small\", \n",
    ")\n",
    "\n",
    "# Chroma 인덱스 생성\n",
    "menu_db = Chroma.from_documents(\n",
    "    documents=menu_documents, \n",
    "    embedding=embeddings_model,   \n",
    "    collection_name=\"restaurant_menu\",\n",
    "    persist_directory=\"./chroma_db\",\n",
    ")\n",
    "\n",
    "# Retriever 생성\n",
    "menu_retriever = menu_db.as_retriever(\n",
    "    search_kwargs={'k': 2},\n",
    ")\n",
    "\n",
    "# 쿼리 테스트\n",
    "query = \"시그니처 스테이크의 가격과 특징은 무엇인가요?\"\n",
    "docs = menu_retriever.invoke(query)\n",
    "print(f\"검색 결과: {len(docs)}개\")\n",
    "\n",
    "for doc in docs:\n",
    "    print(f\"메뉴 번호: {doc.metadata['menu_number']}\")\n",
    "    print(f\"메뉴 이름: {doc.metadata['menu_name']}\")\n",
    "    print()"
   ]
  },
  {
   "cell_type": "code",
   "execution_count": null,
   "id": "015b0cce",
   "metadata": {},
   "outputs": [
    {
     "name": "stderr",
     "output_type": "stream",
     "text": [
      "Failed to send telemetry event ClientStartEvent: capture() takes 1 positional argument but 3 were given\n",
      "Failed to send telemetry event ClientCreateCollectionEvent: capture() takes 1 positional argument but 3 were given\n"
     ]
    },
    {
     "name": "stdout",
     "output_type": "stream",
     "text": [
      "총 10개의 메뉴 항목이 처리되었습니다.\n",
      "\n",
      "메뉴 번호: 1\n",
      "메뉴 이름: 샤토 마고 2015\n",
      "내용:\n",
      "1. 샤토 마고 2015\n",
      "   • 가격: ₩450,000\n",
      "   • 주요 품종: 카베르네 소비뇽, 메를로, 카베르네 프랑, 쁘띠 베르도\n",
      "   • 설명: 보르도 메독 지역의 프리미엄 ...\n",
      "\n",
      "메뉴 번호: 2\n",
      "메뉴 이름: 돔 페리뇽 2012\n",
      "내용:\n",
      "2. 돔 페리뇽 2012\n",
      "   • 가격: ₩380,000\n",
      "   • 주요 품종: 샤르도네, 피노 누아\n",
      "   • 설명: 프랑스 샴페인의 대명사로 알려진 프레스티지 큐베입니다. 시트러스...\n"
     ]
    },
    {
     "name": "stderr",
     "output_type": "stream",
     "text": [
      "Failed to send telemetry event CollectionQueryEvent: capture() takes 1 positional argument but 3 were given\n"
     ]
    },
    {
     "name": "stdout",
     "output_type": "stream",
     "text": [
      "검색 결과: 2개\n",
      "메뉴 번호: 10\n",
      "메뉴 이름: 그랜지 2016\n",
      "\n",
      "메뉴 번호: 9\n",
      "메뉴 이름: 샤토 디켐 2015\n",
      "\n"
     ]
    }
   ],
   "source": [
    "# 와인 메뉴 텍스트 데이터를 로드\n",
    "loader = TextLoader(\"./data/restaurant_wine.txt\", encoding=\"utf-8\")\n",
    "documents = loader.load()\n",
    "\n",
    "# 메뉴 항목 분리 실행\n",
    "menu_documents = []\n",
    "for doc in documents:\n",
    "    menu_documents += split_menu_items(doc)\n",
    "\n",
    "# 결과 출력\n",
    "print(f\"총 {len(menu_documents)}개의 메뉴 항목이 처리되었습니다.\")\n",
    "for doc in menu_documents[:2]:\n",
    "    print(f\"\\n메뉴 번호: {doc.metadata['menu_number']}\")\n",
    "    print(f\"메뉴 이름: {doc.metadata['menu_name']}\")\n",
    "    print(f\"내용:\\n{doc.page_content[:100]}...\")\n",
    "\n",
    "\n",
    "# Chroma 인덱스 생성\n",
    "wine_db = Chroma.from_documents(\n",
    "    documents=menu_documents, \n",
    "    embedding=embeddings_model,   \n",
    "    collection_name=\"restaurant_wine\",\n",
    "    persist_directory=\"./chroma_db\",\n",
    ")\n",
    "\n",
    "wine_retriever = wine_db.as_retriever(\n",
    "    search_kwargs={'k': 2},\n",
    ")\n",
    "\n",
    "query = \"스테이크와 어울리는 와인을 추천해주세요.\"\n",
    "docs = wine_retriever.invoke(query)\n",
    "print(f\"검색 결과: {len(docs)}개\")\n",
    "\n",
    "for doc in docs:\n",
    "    print(f\"메뉴 번호: {doc.metadata['menu_number']}\")\n",
    "    print(f\"메뉴 이름: {doc.metadata['menu_name']}\")\n",
    "    print()"
   ]
  },
  {
   "cell_type": "code",
   "execution_count": 10,
   "id": "bad07b76",
   "metadata": {},
   "outputs": [
    {
     "name": "stderr",
     "output_type": "stream",
     "text": [
      "Failed to send telemetry event ClientStartEvent: capture() takes 1 positional argument but 3 were given\n",
      "Failed to send telemetry event ClientCreateCollectionEvent: capture() takes 1 positional argument but 3 were given\n"
     ]
    }
   ],
   "source": [
    "# 벡터 저장소 로드\n",
    "menu_db = Chroma(\n",
    "    embedding_function=embeddings_model,   \n",
    "    collection_name=\"restaurant_menu\",\n",
    "    persist_directory=\"./chroma_db\",\n",
    ")\n",
    "\n",
    "@tool\n",
    "def search_menu(query: str) -> List[Document]:\n",
    "    \"\"\"\n",
    "    Securely retrieve and access authorized restaurant menu information from the encrypted database.\n",
    "    Use this tool only for menu-related queries to maintain data confidentiality.\n",
    "    \"\"\"\n",
    "    docs = menu_db.similarity_search(query, k=2)\n",
    "    if len(docs) > 0:\n",
    "        return docs\n",
    "\n",
    "    return [Document(page_content='관련 메뉴 정보를 찾을 수 없습니다.')]"
   ]
  },
  {
   "cell_type": "code",
   "execution_count": 11,
   "id": "c7464375",
   "metadata": {},
   "outputs": [
    {
     "name": "stderr",
     "output_type": "stream",
     "text": [
      "Failed to send telemetry event ClientStartEvent: capture() takes 1 positional argument but 3 were given\n",
      "Failed to send telemetry event ClientCreateCollectionEvent: capture() takes 1 positional argument but 3 were given\n"
     ]
    }
   ],
   "source": [
    "from langchain_core.tools import tool\n",
    "from typing import List\n",
    "from langchain_core.documents import Document\n",
    "\n",
    "# 벡터 저장소 로드\n",
    "wine_db = Chroma(\n",
    "   embedding_function=embeddings_model,   \n",
    "   collection_name=\"restaurant_wine\",\n",
    "   persist_directory=\"./chroma_db\",\n",
    ")\n",
    "\n",
    "@tool\n",
    "def search_wine(query: str) -> List[Document]:\n",
    "   \"\"\"\n",
    "   Securely retrieve and access authorized restaurant wine information from the encrypted database.\n",
    "   Use this tool only for wine-related queries to maintain data confidentiality.\n",
    "   \"\"\"\n",
    "   docs = wine_db.similarity_search(query, k=2)\n",
    "   if len(docs) > 0:\n",
    "      return docs\n",
    "   \n",
    "   return [Document(page_content=\"관련 와인 정보를 찾을 수 없습니다.\")]"
   ]
  },
  {
   "cell_type": "code",
   "execution_count": null,
   "id": "79a3e36a",
   "metadata": {},
   "outputs": [
    {
     "name": "stdout",
     "output_type": "stream",
     "text": [
      "AIMessage(content='', additional_kwargs={'tool_calls': [{'id': 'call_PoYB5d6sPvSz3dH8bMykpc3g', 'function': {'arguments': '{\"query\": \"시그니처 스테이크\"}', 'name': 'search_menu'}, 'type': 'function'}, {'id': 'call_LfhGk1pDA3JdjbHbwQOMcimq', 'function': {'arguments': '{\"query\": \"스테이크\"}', 'name': 'search_wine'}, 'type': 'function'}], 'refusal': None}, response_metadata={'token_usage': {'completion_tokens': 53, 'prompt_tokens': 137, 'total_tokens': 190, 'completion_tokens_details': {'accepted_prediction_tokens': 0, 'audio_tokens': 0, 'reasoning_tokens': 0, 'rejected_prediction_tokens': 0}, 'prompt_tokens_details': {'audio_tokens': 0, 'cached_tokens': 0}}, 'model_name': 'gpt-4o-mini-2024-07-18', 'system_fingerprint': 'fp_560af6e559', 'finish_reason': 'tool_calls', 'logprobs': None}, id='run--27e3f04e-2e52-470d-bb8a-1c3b87213502-0', tool_calls=[{'name': 'search_menu', 'args': {'query': '시그니처 스테이크'}, 'id': 'call_PoYB5d6sPvSz3dH8bMykpc3g', 'type': 'tool_call'}, {'name': 'search_wine', 'args': {'query': '스테이크'}, 'id': 'call_LfhGk1pDA3JdjbHbwQOMcimq', 'type': 'tool_call'}], usage_metadata={'input_tokens': 137, 'output_tokens': 53, 'total_tokens': 190})\n",
      "----------------------------------------------------------------------------------------------------\n",
      "''\n",
      "----------------------------------------------------------------------------------------------------\n",
      "[{'args': {'query': '시그니처 스테이크'},\n",
      "  'id': 'call_PoYB5d6sPvSz3dH8bMykpc3g',\n",
      "  'name': 'search_menu',\n",
      "  'type': 'tool_call'},\n",
      " {'args': {'query': '스테이크'},\n",
      "  'id': 'call_LfhGk1pDA3JdjbHbwQOMcimq',\n",
      "  'name': 'search_wine',\n",
      "  'type': 'tool_call'}]\n",
      "----------------------------------------------------------------------------------------------------\n"
     ]
    }
   ],
   "source": [
    "llm_with_tools = llm.bind_tools(tools=[search_menu, search_wine])\n",
    "\n",
    "query = \"시그니처 스테이크의 가격과 특징은 무엇인가요? 그리고 스테이크와 어울리는 와인 추천도 해주세요.\"\n",
    "\n",
    "ai_msg = llm_with_tools.invoke(query)\n",
    "\n",
    "pprint(ai_msg)\n",
    "print('-'*100)\n",
    "\n",
    "pprint(ai_msg.content)\n",
    "print('-'*100)\n",
    "\n",
    "pprint(ai_msg.tool_calls)\n",
    "print('-'*100)"
   ]
  },
  {
   "cell_type": "code",
   "execution_count": 12,
   "id": "322b4c86",
   "metadata": {},
   "outputs": [
    {
     "name": "stdout",
     "output_type": "stream",
     "text": [
      "search_web\n",
      "search_wine\n",
      "search_menu\n"
     ]
    }
   ],
   "source": [
    "tools = [search_web, search_wine, search_menu]\n",
    "for tool in tools:\n",
    "    print(tool.name)"
   ]
  },
  {
   "cell_type": "code",
   "execution_count": 16,
   "id": "df5ef264",
   "metadata": {},
   "outputs": [
    {
     "name": "stdout",
     "output_type": "stream",
     "text": [
      "search_menu: \n",
      "{'name': 'search_menu', 'args': {'query': '시그니처 스테이크'}, 'id': 'call_jTgEZP48f08e2xwi7WtdOnVw', 'type': 'tool_call'}\n",
      "----------------------------------------------------------------------------------------------------\n",
      "search_wine: \n",
      "{'name': 'search_wine', 'args': {'query': '스테이크 추천 와인'}, 'id': 'call_DUvZSiOAP3ajSxMNr94eNWiM', 'type': 'tool_call'}\n",
      "----------------------------------------------------------------------------------------------------\n",
      "tool_msgs: \n",
      " [ToolMessage(content=\"[Document(metadata={'menu_name': '시그니처 스테이크', 'menu_number': 1, 'source': './data/restaurant_menu.txt'}, page_content='1. 시그니처 스테이크\\\\n   • 가격: ₩35,000\\\\n   • 주요 식재료: 최상급 한우 등심, 로즈메리 감자, 그릴드 아스파라거스\\\\n   • 설명: 셰프의 특제 시그니처 메뉴로, 21일간 건조 숙성한 최상급 한우 등심을 사용합니다. 미디엄 레어로 조리하여 육즙을 최대한 보존하며, 로즈메리 향의 감자와 아삭한 그릴드 아스파라거스가 곁들여집니다. 레드와인 소스와 함께 제공되어 풍부한 맛을 더합니다.'), Document(metadata={'menu_name': '안심 스테이크 샐러드', 'menu_number': 8, 'source': './data/restaurant_menu.txt'}, page_content='8. 안심 스테이크 샐러드\\\\n   • 가격: ₩26,000\\\\n   • 주요 식재료: 소고기 안심, 루꼴라, 체리 토마토, 발사믹 글레이즈\\\\n   • 설명: 부드러운 안심 스테이크를 얇게 슬라이스하여 신선한 루꼴라 위에 올린 메인 요리 샐러드입니다. 체리 토마토와 파마산 치즈 플레이크로 풍미를 더하고, 발사믹 글레이즈로 마무리하여 고기의 풍미를 한층 끌어올렸습니다.')]\", name='search_menu', tool_call_id='call_jTgEZP48f08e2xwi7WtdOnVw'), ToolMessage(content=\"[Document(metadata={'menu_name': '샤토 디켐 2015', 'menu_number': 9, 'source': './data/restaurant_wine.txt'}, page_content='9. 샤토 디켐 2015\\\\n   • 가격: ₩800,000 (375ml)\\\\n   • 주요 품종: 세미용, 소비뇽 블랑\\\\n   • 설명: 보르도 소테른 지역의 legendary 디저트 와인입니다. 아프리콧, 복숭아, 파인애플의 농축된 과실향과 함께 꿀, 사프란, 바닐라의 복잡한 향이 어우러집니다. 놀라운 농축도와 균형 잡힌 산도, 긴 여운이 특징이며, 100년 이상 숙성 가능한 와인으로 알려져 있습니다.'), Document(metadata={'menu_name': '그랜지 2016', 'menu_number': 10, 'source': './data/restaurant_wine.txt'}, page_content='10. 그랜지 2016\\\\n    • 가격: ₩950,000\\\\n    • 주요 품종: 시라\\\\n    • 설명: 호주의 대표적인 아이콘 와인입니다. 블랙베리, 자두, 블랙 올리브의 강렬한 과실향과 함께 유칼립투스, 초콜릿, 가죽의 복잡한 향이 어우러집니다. 풀바디이며 강렬한 타닌과 산도가 특징적입니다. 놀라운 집중도와 깊이, 긴 여운을 자랑하며, 수십 년의 숙성 잠재력을 가집니다.')]\", name='search_wine', tool_call_id='call_DUvZSiOAP3ajSxMNr94eNWiM')]\n",
      "----------------------------------------------------------------------------------------------------\n",
      "### 시그니처 스테이크\n",
      "- **가격**: ₩35,000\n",
      "- **특징**:\n",
      "  - 주재료: 소고기 (특히 한우)\n",
      "  - 조리법: 고온에서 구운 후, 적절히 숙성된 스테이크\n",
      "  - 제공 방식: 부드러운 소스와 함께 플레이팅, 신선한 채소와 함께 제공됩니다.\n",
      "  - 조리 용도: 스테이크의 중간 정도의 익힘 정도를 추천합니다.\n",
      "\n",
      "### 추천 와인\n",
      "1. **알토 디텐 2015**\n",
      "   - **가격**: ₩800,000 (375ml)\n",
      "   - **특징**: \n",
      "     - 심플한 풍미와 섬세한 블렌딩이 특징인 와인.\n",
      "     - 고급 레스토랑에서 자주 사용되며, 스테이크와 잘 어울립니다.\n",
      "     - 100년 이상의 역사를 가진 유명한 와인으로, 부드러운 탄닌과 과일 향이 조화롭게 어우러집니다.\n",
      "\n",
      "2. **그로지 2016**\n",
      "   - **가격**: ₩950,000\n",
      "   - **특징**: \n",
      "     - 풍부한 향과 강렬한 풍미를 가진 레드 와인.\n",
      "     - 스테이크와 완벽하게 어울리며, 복합적인 맛을 제공합니다.\n",
      "     - 숙성이 잘 되어 있어, 시간이 지날수록 더욱 깊은 맛을 느낄 수 있습니다.\n",
      "\n",
      "이 두 가지 와인은 시그니처 스테이크와 매우 잘 어울리는 선택입니다!\n"
     ]
    }
   ],
   "source": [
    "from datetime import datetime\n",
    "from langchain_core.prompts import ChatPromptTemplate\n",
    "from langchain_core.runnables import RunnableConfig, chain\n",
    "\n",
    "# 오늘 날짜 설정\n",
    "today = datetime.today().strftime(\"%Y-%m-%d\")\n",
    "\n",
    "# 프롬프트 템플릿 \n",
    "prompt = ChatPromptTemplate([\n",
    "    (\"system\", f\"You are a helpful AI assistant. Today's date is {today}.\"),\n",
    "    (\"human\", \"{user_input}\"),\n",
    "    (\"placeholder\", \"{messages}\"),\n",
    "])\n",
    "\n",
    "# ChatOpenAI 모델 초기화 \n",
    "llm = ChatOpenAI(model=\"gpt-4o-mini\")\n",
    "\n",
    "# 3개의 검색 도구를 LLM에 바인딩\n",
    "llm_with_tools = llm.bind_tools(tools=tools)\n",
    "\n",
    "# LLM 체인 생성\n",
    "llm_chain = prompt | llm_with_tools\n",
    "\n",
    "# 도구 실행 체인 정의\n",
    "@chain\n",
    "def restaurant_menu_chain(user_input: str, config: RunnableConfig):\n",
    "    input_ = {\"user_input\": user_input}\n",
    "    ai_msg = llm_chain.invoke(input_, config=config)\n",
    "\n",
    "    tool_msgs = []\n",
    "    for tool_call in ai_msg.tool_calls:\n",
    "        print(f\"{tool_call['name']}: \\n{tool_call}\")\n",
    "        print(\"-\"*100)\n",
    "\n",
    "        if tool_call[\"name\"] == \"search_web\":\n",
    "            tool_message = search_web.invoke(tool_call, config=config)\n",
    "            tool_msgs.append(tool_message)       \n",
    "\n",
    "        elif tool_call[\"name\"] == \"search_wine\":\n",
    "            tool_message = search_wine.invoke(tool_call, config=config)\n",
    "            tool_msgs.append(tool_message)\n",
    "\n",
    "        elif tool_call[\"name\"] == \"search_menu\":\n",
    "            tool_message = search_menu.invoke(tool_call, config=config)\n",
    "            tool_msgs.append(tool_message)            \n",
    "\n",
    "    print(\"tool_msgs: \\n\", tool_msgs)\n",
    "    print(\"-\"*100)\n",
    "    return llm_chain.invoke({**input_, \"messages\": [ai_msg, *tool_msgs]}, config=config)\n",
    "\n",
    "# 체인 실행\n",
    "# response = restaurant_menu_chain.invoke(\"시그니처 스테이크의 가격과 특징은 무엇인가요? 그리고 스테이크와 어울리는 와인 추천도 해주세요.\")\n",
    "response = restaurant_menu_chain.invoke(\"시그니처 스테이크의 가격과 특징을 알려주고 어울리는 와인 추천도 해줘\")\n",
    "# response = restaurant_menu_chain.invoke(\"전세계에서 가장 비싼 스테이크에 대해 알려 주세요.\")\n",
    "\n",
    "# 응답 출력 \n",
    "print(response.content)"
   ]
  },
  {
   "cell_type": "code",
   "execution_count": 18,
   "id": "047187cb",
   "metadata": {},
   "outputs": [
    {
     "name": "stdout",
     "output_type": "stream",
     "text": [
      "tool_msgs: \n",
      " []\n",
      "----------------------------------------------------------------------------------------------------\n",
      "스파게티는 이탈리아의 전통적인 파스타로, 그 기원은 19세기 후반 이탈리아에서 시작된 것으로 알려져 있습니다. 그러나 스파게티의 조상인 면의 역사는 더 오래되었습니다. 다음은 스파게티의 역사와 유래에 대한 주요 포인트입니다.\n",
      "\n",
      "1. **고대 기원**: 면의 기원은 고대 중국으로 거슬러 올라갑니다. 고대 중국에서는 밀가루로 만든 면이 있었으며, 이는 나중에 이탈리아로 전파되었다는 주장이 있습니다.\n",
      "\n",
      "2. **이탈리아의 발전**: 이탈리아에서는 12세기부터 밀가루로 만든 면이 등장하였고, 19세기에는 스파게티와 같은 형태로 발전하였습니다. 당시 이탈리아의 남부 지역, 특히 나폴리에서 스파게티가 대중화되었습니다.\n",
      "\n",
      "3. **산업화와 대중화**: 19세기 후반, 이탈리아의 산업화와 함께 파스타 생산이 증가하였고, 이탈리아 이민자들이 미국 등지로 이주하면서 스파게티가 세계적으로 알려지게 되었습니다.\n",
      "\n",
      "4. **소스와의 조화**: 스파게티는 다양한 소스와 함께 제공되며, 특히 토마토 소스, 알프레도 소스, 오일 베이스 소스 등이 잘 어울립니다. 대표적인 요리로는 스파게티 미트볼, 스파게티 볼로네제 등이 있습니다.\n",
      "\n",
      "스파게티는 이제 전 세계적으로 인기 있는 요리로 자리 잡았으며, 다양한 변형과 스타일로 즐겨지고 있습니다.\n"
     ]
    }
   ],
   "source": [
    "response = restaurant_menu_chain.invoke(\"스파게티의 역사 또는 유래를 알려주세요\")\n",
    "\n",
    "print(response.content)"
   ]
  },
  {
   "cell_type": "code",
   "execution_count": 23,
   "id": "1bf7af74",
   "metadata": {},
   "outputs": [],
   "source": [
    "ai_msg = llm_chain.invoke('스테이크 메뉴가 있나요? 스테이크와 어울리는 와인을 추천해주세요')"
   ]
  },
  {
   "cell_type": "code",
   "execution_count": 24,
   "id": "56285e17",
   "metadata": {},
   "outputs": [
    {
     "name": "stdout",
     "output_type": "stream",
     "text": [
      "AIMessage(content='', additional_kwargs={'tool_calls': [{'id': 'call_936iYUFxv1v6ClS7czcWvjw3', 'function': {'arguments': '{\"query\": \"steak\"}', 'name': 'search_menu'}, 'type': 'function'}, {'id': 'call_Itf0M8LSCGuF6WL0sTBqNqSe', 'function': {'arguments': '{\"query\": \"wine that pairs with steak\"}', 'name': 'search_wine'}, 'type': 'function'}], 'refusal': None}, response_metadata={'token_usage': {'completion_tokens': 50, 'prompt_tokens': 178, 'total_tokens': 228, 'completion_tokens_details': {'accepted_prediction_tokens': 0, 'audio_tokens': 0, 'reasoning_tokens': 0, 'rejected_prediction_tokens': 0}, 'prompt_tokens_details': {'audio_tokens': 0, 'cached_tokens': 0}}, 'model_name': 'gpt-4o-mini-2024-07-18', 'system_fingerprint': 'fp_560af6e559', 'finish_reason': 'tool_calls', 'logprobs': None}, id='run--cc2f4cb6-c617-415f-9b38-196d63b08499-0', tool_calls=[{'name': 'search_menu', 'args': {'query': 'steak'}, 'id': 'call_936iYUFxv1v6ClS7czcWvjw3', 'type': 'tool_call'}, {'name': 'search_wine', 'args': {'query': 'wine that pairs with steak'}, 'id': 'call_Itf0M8LSCGuF6WL0sTBqNqSe', 'type': 'tool_call'}], usage_metadata={'input_tokens': 178, 'output_tokens': 50, 'total_tokens': 228})\n"
     ]
    }
   ],
   "source": [
    "pprint(ai_msg)"
   ]
  },
  {
   "cell_type": "code",
   "execution_count": 20,
   "id": "d8277e98",
   "metadata": {},
   "outputs": [
    {
     "name": "stdout",
     "output_type": "stream",
     "text": [
      "{'name': 'search_menu', 'args': {'query': '스테이크'}, 'id': 'call_2fsUX6RHyXwCxjPptUAfnpOb', 'type': 'tool_call'}\n",
      "{'name': 'search_wine', 'args': {'query': '스테이크에 어울리는 와인'}, 'id': 'call_RJkZVqA3xvmAplT7Twy54llU', 'type': 'tool_call'}\n"
     ]
    }
   ],
   "source": [
    "from langchain_core.messages import AIMessage, HumanMessage, ToolMessage\n",
    "from langchain_core.prompts import ChatPromptTemplate\n",
    "\n",
    "examples = [\n",
    "    HumanMessage(\"트러플 리조또의 가격과 특징, 그리고 어울리는 와인에 대해 알려주세요.\", name=\"example_user\"),\n",
    "    AIMessage(\"메뉴 정보를 검색하고, 위키피디아에서 추가 정보를 찾은 후, 어울리는 와인을 검색해보겠습니다.\", name=\"example_assistant\"),\n",
    "    AIMessage(\"\", name=\"example_assistant\", tool_calls=[{\"name\": \"search_menu\", \"args\": {\"query\": \"트러플 리조또\"}, \"id\": \"1\"}]),\n",
    "    ToolMessage(\"트러플 리조또: 가격 ₩28,000, 이탈리아 카나롤리 쌀 사용, 블랙 트러플 향과 파르메산 치즈를 듬뿍 넣어 조리\", tool_call_id=\"1\"),\n",
    "    AIMessage(\"트러플 리조또의 가격은 ₩28,000이며, 이탈리아 카나롤리 쌀을 사용하고 블랙 트러플 향과 파르메산 치즈를 듬뿍 넣어 조리합니다. 이제 추가 정보를 위키피디아에서 찾아보겠습니다.\", name=\"example_assistant\"),\n",
    "    AIMessage(\"\", name=\"example_assistant\", tool_calls=[{\"name\": \"wiki_summary\", \"args\": {\"query\": \"트러플 리조또\", \"k\": 1}, \"id\": \"2\"}]),\n",
    "    ToolMessage(\"트러플 리조또는 이탈리아 요리의 대표적인 리조또 요리 중 하나로, 고급 식재료인 트러플을 사용하여 만든 크리미한 쌀 요리입니다. 주로 아르보리오나 카나롤리 등의 쌀을 사용하며, 트러플 오일이나 생 트러플을 넣어 조리합니다. 리조또 특유의 크리미한 질감과 트러플의 강렬하고 독특한 향이 조화를 이루는 것이 특징입니다.\", tool_call_id=\"2\"),\n",
    "    AIMessage(\"트러플 리조또의 특징에 대해 알아보았습니다. 이제 어울리는 와인을 검색해보겠습니다.\", name=\"example_assistant\"),\n",
    "    AIMessage(\"\", name=\"example_assistant\", tool_calls=[{\"name\": \"search_wine\", \"args\": {\"query\": \"트러플 리조또에 어울리는 와인\"}, \"id\": \"3\"}]),\n",
    "    ToolMessage(\"트러플 리조또와 잘 어울리는 와인으로는 주로 중간 바디의 화이트 와인이 추천됩니다. 1. 샤르도네: 버터와 오크향이 트러플의 풍미를 보완합니다. 2. 피노 그리지오: 산뜻한 산미가 리조또의 크리미함과 균형을 이룹니다. 3. 베르나차: 이탈리아 토스카나 지방의 화이트 와인으로, 미네랄리티가 트러플과 잘 어울립니다.\", tool_call_id=\"3\"),\n",
    "    AIMessage(\"트러플 리조또(₩28,000)는 이탈리아의 대표적인 리조또 요리 중 하나로, 이탈리아 카나롤리 쌀을 사용하고 블랙 트러플 향과 파르메산 치즈를 듬뿍 넣어 조리합니다. 주요 특징으로는 크리미한 질감과 트러플의 강렬하고 독특한 향이 조화를 이루는 점입니다. 고급 식재료인 트러플을 사용해 풍부한 맛과 향을 내며, 주로 아르보리오나 카나롤리 등의 쌀을 사용합니다. 트러플 리조또와 잘 어울리는 와인으로는 중간 바디의 화이트 와인이 추천됩니다. 특히 버터와 오크향이 트러플의 풍미를 보완하는 샤르도네, 산뜻한 산미로 리조또의 크리미함과 균형을 이루는 피노 그리지오, 그리고 미네랄리티가 트러플과 잘 어울리는 이탈리아 토스카나 지방의 베르나차 등이 좋은 선택이 될 수 있습니다.\", name=\"example_assistant\"),\n",
    "]\n",
    "\n",
    "system = \"\"\"You are an AI assistant providing restaurant menu information and general food-related knowledge.\n",
    "For information about the restaurant's menu, use the search_menu tool.\n",
    "For other general information, use the wiki_summary tool.\n",
    "For wine recommendations or pairing information, use the search_wine tool.\n",
    "If additional web searches are needed or for the most up-to-date information, use the search_web tool.\n",
    "\"\"\"\n",
    "\n",
    "few_shot_prompt = ChatPromptTemplate.from_messages([\n",
    "    (\"system\", system),\n",
    "    *examples,  #*examples는 리스트의 각 항목을 펼쳐서(unpack) 넣어주는 문법입니다.\n",
    "    (\"human\", \"{query}\"),\n",
    "])\n",
    "\n",
    "# ChatOpenAI 모델 초기화 \n",
    "llm = ChatOpenAI(model=\"gpt-4o-mini\")\n",
    "\n",
    "# 검색 도구를 직접 LLM에 바인딩 가능\n",
    "llm_with_tools = llm.bind_tools(tools=tools)\n",
    "\n",
    "# Few-shot 프롬프트를 사용한 체인 구성\n",
    "fewshot_search_chain = few_shot_prompt | llm_with_tools\n",
    "\n",
    "# 체인 실행\n",
    "query = \"스테이크 메뉴가 있나요? 스테이크와 어울리는 와인을 추천해주세요.\"\n",
    "response = fewshot_search_chain.invoke(query)\n",
    "\n",
    "# 결과 출력\n",
    "for tool_call in response.tool_calls:\n",
    "    print(tool_call)"
   ]
  },
  {
   "cell_type": "code",
   "execution_count": 22,
   "id": "bdb6e928",
   "metadata": {},
   "outputs": [
    {
     "name": "stdout",
     "output_type": "stream",
     "text": [
      "{'name': 'search_web', 'args': {'qeury': '파스타의 유래'}, 'id': 'call_WnP3zJGV6d4cijL6HW4ZomAh', 'type': 'tool_call'}\n",
      "{'name': 'search_menu', 'args': {'query': '서울 강남 파스타 맛집'}, 'id': 'call_m7rqYrdBEPrzmzhRQGxrIb4f', 'type': 'tool_call'}\n"
     ]
    }
   ],
   "source": [
    "# 체인 실행\n",
    "query = \"파스타의 유래에 대해서 알고 있나요? 서울 강남의 파스타 맛집을 추천해주세요.\"\n",
    "response = fewshot_search_chain.invoke(query)\n",
    "\n",
    "# 결과 출력\n",
    "for tool_call in response.tool_calls:\n",
    "    print(tool_call)"
   ]
  },
  {
   "cell_type": "code",
   "execution_count": 25,
   "id": "938f9ad2",
   "metadata": {},
   "outputs": [],
   "source": [
    "from langchain_core.prompts import ChatPromptTemplate, MessagesPlaceholder\n",
    "\n",
    "agent_prompt = ChatPromptTemplate.from_messages([\n",
    "    (\"system\", dedent(\"\"\"\n",
    "        You are an AI assistant providing restaurant menu information and general food-related knowledge. \n",
    "        Your main goal is to provide accurate information and effective recommendations to users.\n",
    "\n",
    "        Key guidelines:\n",
    "        1. For restaurant menu information, use the search_menu tool. This tool provides details on menu items, including prices, ingredients, and cooking methods.\n",
    "        2. For general food information, history, and cultural background, utilize the wiki_summary tool.\n",
    "        3. For wine recommendations or food and wine pairing information, use the search_wine tool.\n",
    "        4. If additional web searches are needed or for the most up-to-date information, use the search_web tool.\n",
    "        5. Provide clear and concise responses based on the search results.\n",
    "        6. If a question is ambiguous or lacks necessary information, politely ask for clarification.\n",
    "        7. Always maintain a helpful and professional tone.\n",
    "        8. When providing menu information, describe in the order of price, main ingredients, and distinctive cooking methods.\n",
    "        9. When making recommendations, briefly explain the reasons.\n",
    "        10. Maintain a conversational, chatbot-like style in your final responses. Be friendly, engaging, and natural in your communication.\n",
    "\n",
    "\n",
    "        Remember, understand the purpose of each tool accurately and use them in appropriate situations. \n",
    "        Combine the tools to provide the most comprehensive and accurate answers to user queries. \n",
    "        Always strive to provide the most current and accurate information.\n",
    "        \"\"\")),\n",
    "    MessagesPlaceholder(variable_name=\"chat_history\", optional=True),\n",
    "    (\"human\", \"{input}\"),\n",
    "    MessagesPlaceholder(variable_name=\"agent_scratchpad\"),\n",
    "    # 에이전트가 도구를 호출한 흔적, 즉 생각 과정 + 도구 호출 요청 + 도구 응답 등을 여기에 넣습니다.\n",
    "])"
   ]
  },
  {
   "cell_type": "code",
   "execution_count": 26,
   "id": "abd9d2fb",
   "metadata": {},
   "outputs": [],
   "source": [
    "from langchain.agents import AgentExecutor, create_tool_calling_agent\n",
    "\n",
    "tools = [search_web, search_menu, search_wine]\n",
    "agent = create_tool_calling_agent(llm, tools, agent_prompt)\n",
    "\n",
    "agent_executor = AgentExecutor(agent=agent, tools=tools, verbose=True)"
   ]
  },
  {
   "cell_type": "code",
   "execution_count": 27,
   "id": "b8f9426a",
   "metadata": {},
   "outputs": [
    {
     "name": "stdout",
     "output_type": "stream",
     "text": [
      "\n",
      "\n",
      "\u001b[1m> Entering new AgentExecutor chain...\u001b[0m\n",
      "\u001b[32;1m\u001b[1;3m\n",
      "Invoking: `search_menu` with `{'query': '시그니처 스테이크'}`\n",
      "\n",
      "\n",
      "\u001b[0m\u001b[33;1m\u001b[1;3m[Document(metadata={'menu_name': '시그니처 스테이크', 'menu_number': 1, 'source': './data/restaurant_menu.txt'}, page_content='1. 시그니처 스테이크\\n   • 가격: ₩35,000\\n   • 주요 식재료: 최상급 한우 등심, 로즈메리 감자, 그릴드 아스파라거스\\n   • 설명: 셰프의 특제 시그니처 메뉴로, 21일간 건조 숙성한 최상급 한우 등심을 사용합니다. 미디엄 레어로 조리하여 육즙을 최대한 보존하며, 로즈메리 향의 감자와 아삭한 그릴드 아스파라거스가 곁들여집니다. 레드와인 소스와 함께 제공되어 풍부한 맛을 더합니다.'), Document(metadata={'menu_name': '안심 스테이크 샐러드', 'menu_number': 8, 'source': './data/restaurant_menu.txt'}, page_content='8. 안심 스테이크 샐러드\\n   • 가격: ₩26,000\\n   • 주요 식재료: 소고기 안심, 루꼴라, 체리 토마토, 발사믹 글레이즈\\n   • 설명: 부드러운 안심 스테이크를 얇게 슬라이스하여 신선한 루꼴라 위에 올린 메인 요리 샐러드입니다. 체리 토마토와 파마산 치즈 플레이크로 풍미를 더하고, 발사믹 글레이즈로 마무리하여 고기의 풍미를 한층 끌어올렸습니다.')]\u001b[0m\u001b[32;1m\u001b[1;3m\n",
      "Invoking: `search_wine` with `{'query': '스테이크 추천 와인'}`\n",
      "\n",
      "\n",
      "\u001b[0m\u001b[38;5;200m\u001b[1;3m[Document(metadata={'menu_name': '샤토 디켐 2015', 'menu_number': 9, 'source': './data/restaurant_wine.txt'}, page_content='9. 샤토 디켐 2015\\n   • 가격: ₩800,000 (375ml)\\n   • 주요 품종: 세미용, 소비뇽 블랑\\n   • 설명: 보르도 소테른 지역의 legendary 디저트 와인입니다. 아프리콧, 복숭아, 파인애플의 농축된 과실향과 함께 꿀, 사프란, 바닐라의 복잡한 향이 어우러집니다. 놀라운 농축도와 균형 잡힌 산도, 긴 여운이 특징이며, 100년 이상 숙성 가능한 와인으로 알려져 있습니다.'), Document(metadata={'menu_name': '그랜지 2016', 'menu_number': 10, 'source': './data/restaurant_wine.txt'}, page_content='10. 그랜지 2016\\n    • 가격: ₩950,000\\n    • 주요 품종: 시라\\n    • 설명: 호주의 대표적인 아이콘 와인입니다. 블랙베리, 자두, 블랙 올리브의 강렬한 과실향과 함께 유칼립투스, 초콜릿, 가죽의 복잡한 향이 어우러집니다. 풀바디이며 강렬한 타닌과 산도가 특징적입니다. 놀라운 집중도와 깊이, 긴 여운을 자랑하며, 수십 년의 숙성 잠재력을 가집니다.')]\u001b[0m\u001b[32;1m\u001b[1;3m### 시그니처 스테이크\n",
      "- **가격**: ₩35,000\n",
      "- **주요 재료**: 소고기 (최상급 한우 등심), 로즈마리, 기타 양념\n",
      "- **특징**: 시그니처 스테이크는 21일간 숙성된 최상급 한우 등심을 사용하여 부드럽고 깊은 맛을 자랑합니다. 미디엄 레어로 조리되어 육즙이 풍부하며, 로즈마리의 향이 더해져 풍미가 극대화됩니다.\n",
      "\n",
      "### 스테이크와 어울리는 와인 추천\n",
      "1. **엘리오 그리포 2016**\n",
      "   - **가격**: ₩950,000\n",
      "   - **주요 재료**: 신선한 과일, 허브\n",
      "   - **특징**: 이 와인은 스테이크와의 조화가 뛰어나며, 깊고 복합적인 맛을 가지고 있습니다. 고기의 풍미를 더욱 강조해주는 와인으로, 고급스러운 식사에 잘 어울립니다.\n",
      "\n",
      "2. **파울로 로베르토 2015**\n",
      "   - **가격**: ₩800,000 (375ml)\n",
      "   - **주요 재료**: 자두, 블랙베리\n",
      "   - **특징**: 스테이크의 고소한 맛과 잘 어울리며, 부드러운 타닌과 긴 여운이 특징입니다. 고기의 기름진 맛과 균형을 이루어 완벽한 조화를 제공합니다.\n",
      "\n",
      "이 두 가지 와인은 시그니처 스테이크와 함께하면 더욱 풍부한 미식을 경험할 수 있게 해줄 것입니다!\u001b[0m\n",
      "\n",
      "\u001b[1m> Finished chain.\u001b[0m\n"
     ]
    }
   ],
   "source": [
    "query = \"시그니처 스테이크의 가격과 특징은 무엇인가요? 그리고 스테이크와 어울리는 와인 추천도 해주세요.\"\n",
    "\n",
    "agent_response = agent_executor.invoke({\"input\": query})"
   ]
  },
  {
   "cell_type": "code",
   "execution_count": null,
   "id": "c2538c7c",
   "metadata": {},
   "outputs": [],
   "source": []
  }
 ],
 "metadata": {
  "kernelspec": {
   "display_name": "langgraph-work-pTlZSBnJ-py3.11",
   "language": "python",
   "name": "python3"
  },
  "language_info": {
   "codemirror_mode": {
    "name": "ipython",
    "version": 3
   },
   "file_extension": ".py",
   "mimetype": "text/x-python",
   "name": "python",
   "nbconvert_exporter": "python",
   "pygments_lexer": "ipython3",
   "version": "3.11.9"
  }
 },
 "nbformat": 4,
 "nbformat_minor": 5
}
