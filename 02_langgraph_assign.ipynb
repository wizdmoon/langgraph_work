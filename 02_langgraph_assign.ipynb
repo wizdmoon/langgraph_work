{
 "cells": [
  {
   "cell_type": "code",
   "execution_count": 25,
   "id": "52a68846",
   "metadata": {},
   "outputs": [],
   "source": [
    "from typing import TypedDict\n",
    "\n",
    "class GreetState(TypedDict):\n",
    "    name: str\n",
    "    greeting: str"
   ]
  },
  {
   "cell_type": "code",
   "execution_count": 26,
   "id": "6eb4e67e",
   "metadata": {},
   "outputs": [],
   "source": [
    "import random\n",
    "\n",
    "def normalize_name(state:GreetState) -> GreetState:\n",
    "    name = ''.join(state['name'].split()).title()\n",
    "    print(f'생성된 이름: {name}')\n",
    "\n",
    "    return {'name': name}"
   ]
  },
  {
   "cell_type": "code",
   "execution_count": 27,
   "id": "4949543f",
   "metadata": {},
   "outputs": [],
   "source": [
    "def make_greeting(state:GreetState) -> GreetState:\n",
    "    name = state['name']\n",
    "\n",
    "\n",
    "    return {'greeting': f'Hello, {name}!'}"
   ]
  },
  {
   "cell_type": "code",
   "execution_count": 28,
   "id": "fe50f284",
   "metadata": {},
   "outputs": [],
   "source": [
    "from langgraph.graph import StateGraph, START, END\n",
    "\n",
    "builder = StateGraph(GreetState)\n",
    "\n",
    "builder.add_node('normalize_name', normalize_name)\n",
    "builder.add_node('make_greeting', make_greeting)\n",
    "\n",
    "builder.add_edge(START, 'normalize_name')\n",
    "builder.add_edge('normalize_name', 'make_greeting')\n",
    "builder.add_edge('make_greeting', END)\n",
    "\n",
    "graph = builder.compile()"
   ]
  },
  {
   "cell_type": "code",
   "execution_count": 29,
   "id": "3a395066",
   "metadata": {},
   "outputs": [
    {
     "data": {
      "image/png": "[encoded data removed]",
      "text/plain": [
       "<IPython.core.display.Image object>"
      ]
     },
     "metadata": {},
     "output_type": "display_data"
    }
   ],
   "source": [
    "from IPython.display import Image, display\n",
    "\n",
    "display(Image(graph.get_graph().draw_mermaid_png()))"
   ]
  },
  {
   "cell_type": "code",
   "execution_count": 30,
   "id": "8ba5ab54",
   "metadata": {},
   "outputs": [
    {
     "name": "stdout",
     "output_type": "stream",
     "text": [
      "생성된 이름: Autumn\n",
      "{'name': 'Autumn', 'greeting': 'Hello, Autumn!'}\n"
     ]
    }
   ],
   "source": [
    "inputs = {'name': '   autumn   '}\n",
    "\n",
    "result = graph.invoke(inputs)\n",
    "print(result)"
   ]
  }
 ],
 "metadata": {
  "kernelspec": {
   "display_name": "langgraph-work-pTlZSBnJ-py3.11",
   "language": "python",
   "name": "python3"
  },
  "language_info": {
   "codemirror_mode": {
    "name": "ipython",
    "version": 3
   },
   "file_extension": ".py",
   "mimetype": "text/x-python",
   "name": "python",
   "nbconvert_exporter": "python",
   "pygments_lexer": "ipython3",
   "version": "3.11.9"
  }
 },
 "nbformat": 4,
 "nbformat_minor": 5
}
