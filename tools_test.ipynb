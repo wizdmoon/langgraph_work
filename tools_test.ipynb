{
 "cells": [
  {
   "cell_type": "code",
   "execution_count": 8,
   "id": "e6492fdb",
   "metadata": {},
   "outputs": [],
   "source": [
    "from langchain_core.tools import tool\n",
    "from langchain_openai import ChatOpenAI\n",
    "from langchain_core.documents import Document\n",
    "from pprint import pprint"
   ]
  },
  {
   "cell_type": "code",
   "execution_count": 9,
   "id": "dcdca8ec",
   "metadata": {},
   "outputs": [],
   "source": [
    "animal_facts = {\n",
    "    \"강아지\": \"강아지는 인간과 가장 친한 반려동물 중 하나입니다. 충성심이 강하고 활발합니다.\",\n",
    "    \"고양이\": \"고양이는 독립적인 성격을 가진 반려동물로, 깨끗하고 조용한 성격을 가졌습니다.\",\n",
    "    \"코끼리\": \"코끼리는 육상 동물 중 가장 큰 동물로, 매우 높은 지능과 사회성을 지닙니다.\",\n",
    "    \"기린\": \"기린은 목이 매우 길며, 주로 아프리카 사바나에서 서식합니다.\"\n",
    "}"
   ]
  },
  {
   "cell_type": "code",
   "execution_count": null,
   "id": "49d0fc90",
   "metadata": {},
   "outputs": [],
   "source": [
    "@tool\n",
    "def search_animal(query: str) -> list[Document]:\n",
    "    '''\n",
    "    이름에 해당하는 동물 정보를 간단히 반환합니다.\n",
    "    '''\n",
    "    for key in animal_facts:\n",
    "        if key in query:\n",
    "            return [Document(page_content=animal_facts[key])]\n",
    "    return [Document(page_content='해당 동물 정보를 찾을 수 없습니다.')]\n",
    "        \n",
    "    # if query in animal_facts:\n",
    "    #     return [Document(page_content=animal_facts[query])]\n",
    "    # return [Document(page_content='해당 동물 정보를 찾을 수 없습니다.')]"
   ]
  },
  {
   "cell_type": "code",
   "execution_count": 15,
   "id": "feb69d3e",
   "metadata": {},
   "outputs": [],
   "source": [
    "llm = ChatOpenAI(model='gpt-4o')\n",
    "llm_with_tools = llm.bind_tools(tools=[search_animal])"
   ]
  },
  {
   "cell_type": "code",
   "execution_count": 16,
   "id": "216a6e52",
   "metadata": {},
   "outputs": [
    {
     "name": "stdout",
     "output_type": "stream",
     "text": [
      "AIMessage(content='', additional_kwargs={'tool_calls': [{'id': 'call_px5bgIFkrZHg1shEmiPWab7G', 'function': {'arguments': '{\"query\":\"고양이\"}', 'name': 'search_animal'}, 'type': 'function'}], 'refusal': None}, response_metadata={'token_usage': {'completion_tokens': 17, 'prompt_tokens': 53, 'total_tokens': 70, 'completion_tokens_details': {'accepted_prediction_tokens': 0, 'audio_tokens': 0, 'reasoning_tokens': 0, 'rejected_prediction_tokens': 0}, 'prompt_tokens_details': {'audio_tokens': 0, 'cached_tokens': 0}}, 'model_name': 'gpt-4o-2024-08-06', 'system_fingerprint': 'fp_cbf1785567', 'finish_reason': 'tool_calls', 'logprobs': None}, id='run--4c1a815e-19cb-40e1-854e-da15ee27cbe7-0', tool_calls=[{'name': 'search_animal', 'args': {'query': '고양이'}, 'id': 'call_px5bgIFkrZHg1shEmiPWab7G', 'type': 'tool_call'}], usage_metadata={'input_tokens': 53, 'output_tokens': 17, 'total_tokens': 70})\n",
      "----------------------------------------------------------------------------------------------------\n",
      "''\n",
      "----------------------------------------------------------------------------------------------------\n",
      "[{'args': {'query': '고양이'},\n",
      "  'id': 'call_px5bgIFkrZHg1shEmiPWab7G',\n",
      "  'name': 'search_animal',\n",
      "  'type': 'tool_call'}]\n",
      "----------------------------------------------------------------------------------------------------\n"
     ]
    }
   ],
   "source": [
    "question = '고양이에 대해 알려줘'\n",
    "ai_msg = llm_with_tools.invoke(question)\n",
    "\n",
    "pprint(ai_msg)\n",
    "print('-'*100)\n",
    "pprint(ai_msg.content)\n",
    "print('-'*100)\n",
    "pprint(ai_msg.tool_calls)\n",
    "print('-'*100)"
   ]
  },
  {
   "cell_type": "code",
   "execution_count": 13,
   "id": "ac0a2127",
   "metadata": {},
   "outputs": [
    {
     "name": "stdout",
     "output_type": "stream",
     "text": [
      "'고양이는 독립적인 성격을 가진 반려동물로, 깨끗하고 조용한 성격을 가지고 있습니다.'\n"
     ]
    }
   ],
   "source": [
    "from datetime import datetime\n",
    "from langchain_core.prompts import ChatPromptTemplate\n",
    "from langchain_core.runnables import chain\n",
    "\n",
    "today = datetime.today().strftime('%Y-%m-%d')\n",
    "\n",
    "prompt = ChatPromptTemplate([\n",
    "    ('system', f\"You are helpful AI assistant. Today's date is {today}.\"),\n",
    "    ('human', '{user_input}'),\n",
    "    ('placeholder', '{message}')\n",
    "])\n",
    "\n",
    "llm = ChatOpenAI(model='gpt-4o-mini')\n",
    "\n",
    "llm_with_tools = llm.bind_tools(tools=[search_animal])\n",
    "\n",
    "llm_chain = prompt | llm_with_tools\n",
    "\n",
    "@chain\n",
    "def web_search_chain(user_input: str):\n",
    "    input_ = {'user_input': user_input}\n",
    "    ai_msg = llm_chain.invoke(input_)\n",
    "\n",
    "    tool_msgs = search_animal.batch(ai_msg.tool_calls)\n",
    "\n",
    "    return llm_chain.invoke({**input_, 'message': [ai_msg, *tool_msgs]})\n",
    "\n",
    "response = web_search_chain.invoke(question)\n",
    "\n",
    "pprint(response.content)"
   ]
  },
  {
   "cell_type": "code",
   "execution_count": null,
   "id": "b7eafa1a",
   "metadata": {},
   "outputs": [],
   "source": []
  }
 ],
 "metadata": {
  "kernelspec": {
   "display_name": "langgraph-work-pTlZSBnJ-py3.11",
   "language": "python",
   "name": "python3"
  },
  "language_info": {
   "codemirror_mode": {
    "name": "ipython",
    "version": 3
   },
   "file_extension": ".py",
   "mimetype": "text/x-python",
   "name": "python",
   "nbconvert_exporter": "python",
   "pygments_lexer": "ipython3",
   "version": "3.11.9"
  }
 },
 "nbformat": 4,
 "nbformat_minor": 5
}
