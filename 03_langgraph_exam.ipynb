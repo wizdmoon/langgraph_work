{
 "cells": [
  {
   "cell_type": "code",
   "execution_count": 89,
   "id": "3941d566",
   "metadata": {},
   "outputs": [
    {
     "data": {
      "text/plain": [
       "True"
      ]
     },
     "execution_count": 89,
     "metadata": {},
     "output_type": "execute_result"
    }
   ],
   "source": [
    "from dotenv import load_dotenv\n",
    "load_dotenv()"
   ]
  },
  {
   "cell_type": "code",
   "execution_count": 90,
   "id": "1a6b2e18",
   "metadata": {},
   "outputs": [],
   "source": [
    "from typing import TypedDict\n",
    "from langgraph.graph import StateGraph, START, END"
   ]
  },
  {
   "cell_type": "code",
   "execution_count": 91,
   "id": "168083f6",
   "metadata": {},
   "outputs": [
    {
     "name": "stderr",
     "output_type": "stream",
     "text": [
      "Failed to send telemetry event ClientStartEvent: capture() takes 1 positional argument but 3 were given\n",
      "Failed to send telemetry event ClientCreateCollectionEvent: capture() takes 1 positional argument but 3 were given\n"
     ]
    }
   ],
   "source": [
    "from langchain_chroma import Chroma\n",
    "from langchain_openai import OpenAIEmbeddings\n",
    "\n",
    "embeddings_model = OpenAIEmbeddings(model='text-embedding-3-small')\n",
    "\n",
    "menu_db = Chroma(\n",
    "    embedding_function=embeddings_model,\n",
    "    collection_name='restaurant_menu',\n",
    "    persist_directory='./chroma_db'\n",
    ")"
   ]
  },
  {
   "cell_type": "code",
   "execution_count": 92,
   "id": "e61831a5",
   "metadata": {},
   "outputs": [],
   "source": [
    "from typing import List\n",
    "\n",
    "class MenuState(TypedDict):\n",
    "    user_query: str\n",
    "    is_menu_related: bool\n",
    "    search_results: List[str]\n",
    "    final_answer: str"
   ]
  },
  {
   "cell_type": "code",
   "execution_count": 93,
   "id": "29868055",
   "metadata": {},
   "outputs": [],
   "source": [
    "from langchain_core.prompts import ChatPromptTemplate\n",
    "from langchain_core.output_parsers import StrOutputParser\n",
    "from langchain_openai import ChatOpenAI\n",
    "\n",
    "llm = ChatOpenAI(model='gpt-4o-mini')"
   ]
  },
  {
   "cell_type": "code",
   "execution_count": 94,
   "id": "db0901fc",
   "metadata": {},
   "outputs": [],
   "source": [
    "def get_user_query(state: MenuState) -> MenuState:\n",
    "    user_query = input('무엇을 도와드릴까요?')\n",
    "    return {'user_query': user_query}\n",
    "\n",
    "\n",
    "def analyze_input(state: MenuState) -> MenuState:\n",
    "    analyze_template = '''\n",
    "    사용자의 입력을 분석하여 레스토랑 메뉴 추천이나 음식 정보에 관한 질문인지 판단하세요.\n",
    "\n",
    "    사용자 입력: {user_query}\n",
    "\n",
    "    레스토랑 메뉴나 음식 정보에 관한 질문이면 \"True\", 아니면 \"False\"로 답변 하세요.\n",
    "\n",
    "    답변:\n",
    "    '''\n",
    "\n",
    "    analyze_prompt = ChatPromptTemplate.from_template(analyze_template)\n",
    "    analyze_chain = analyze_prompt | llm | StrOutputParser()\n",
    "\n",
    "    result = analyze_chain.invoke({'user_query': state['user_query']})\n",
    "    is_menu_related = result.strip().lower() == 'true'\n",
    "\n",
    "    return {'is_menu_related': is_menu_related}\n",
    "\n",
    "\n",
    "def search_menu_info(state: MenuState) -> MenuState:\n",
    "    results = menu_db.similarity_search(state['user_query'], k=2)\n",
    "    search_results = [doc.page_content for doc in results]\n",
    "\n",
    "    return {'search_results': search_results}"
   ]
  },
  {
   "cell_type": "code",
   "execution_count": 95,
   "id": "0aef81f5",
   "metadata": {},
   "outputs": [],
   "source": [
    "def generate_menu_response(state: MenuState) -> MenuState:\n",
    "    response_template = '''\n",
    "    사용자 입력: {user_query}\n",
    "    메뉴 관련 검색 결과: {search_results}\n",
    "\n",
    "    위 정보를 바탕으로 사용자의 메뉴 관련 질문에 대한 상세한 답변을 생성 하세요.\n",
    "    검색 결과의 정보를 활용하여 유용한 정보를 제공하세요.\n",
    "\n",
    "    답변:\n",
    "    '''\n",
    "\n",
    "    response_prompt = ChatPromptTemplate.from_template(response_template)\n",
    "    response_chain = response_prompt | llm | StrOutputParser()\n",
    "\n",
    "    final_answer = response_chain.invoke({'user_query': state['user_query'],\n",
    "                                          'search_results': state['search_results']})\n",
    "    \n",
    "    print(f'\\n 메뉴 어시스턴트: {final_answer}')\n",
    "    \n",
    "    return {'final_answer': final_answer}\n",
    "\n",
    "def generate_general_response(state: MenuState) -> MenuState:\n",
    "    response_template = '''\n",
    "    사용자 입력: {user_query}\n",
    "    \n",
    "    위 입력은 레스토랑 메뉴나 음식과 관련이 없습니다.\n",
    "    일반적인 대화 맥락에서 적절한 답변을 생성하세요.\n",
    "\n",
    "    답변:\n",
    "    '''\n",
    "\n",
    "    response_prompt = ChatPromptTemplate.from_template(response_template)\n",
    "    response_chain = response_prompt | llm | StrOutputParser()\n",
    "\n",
    "    final_answer = response_chain.invoke({'user_query': state['user_query']})\n",
    "\n",
    "    print(f'\\n 메뉴 어시스턴트: {final_answer}')\n",
    "    \n",
    "    return {'final_answer': final_answer}"
   ]
  },
  {
   "cell_type": "code",
   "execution_count": 96,
   "id": "ae2d0aa9",
   "metadata": {},
   "outputs": [],
   "source": [
    "from typing import Literal\n",
    "\n",
    "def decide_next_step(state: MenuState) -> Literal['search_menu_info', 'generate_general_response']:\n",
    "    if state['is_menu_related']:\n",
    "        return 'search_menu_info'\n",
    "    else:\n",
    "        return 'generate_general_response'"
   ]
  },
  {
   "cell_type": "code",
   "execution_count": 97,
   "id": "fcee5afa",
   "metadata": {},
   "outputs": [],
   "source": [
    "builder = StateGraph(MenuState)\n",
    "\n",
    "builder.add_node('get_user_query', get_user_query)\n",
    "builder.add_node('analyze_input', analyze_input)\n",
    "builder.add_node('search_menu_info', search_menu_info)\n",
    "builder.add_node('generate_menu_response', generate_menu_response)\n",
    "builder.add_node('generate_general_response', generate_general_response)\n",
    "\n",
    "builder.add_edge(START, 'get_user_query')\n",
    "builder.add_edge('get_user_query', 'analyze_input')\n",
    "\n",
    "builder.add_conditional_edges(\n",
    "    'analyze_input',\n",
    "    decide_next_step,\n",
    "    {\n",
    "        'search_menu_info': 'search_menu_info',\n",
    "        'generate_general_response': 'generate_general_response'\n",
    "    }\n",
    ")\n",
    "\n",
    "builder.add_edge('search_menu_info', 'generate_menu_response')\n",
    "builder.add_edge('generate_menu_response', END)\n",
    "builder.add_edge('generate_general_response', END)\n",
    "\n",
    "graph = builder.compile()"
   ]
  },
  {
   "cell_type": "code",
   "execution_count": 98,
   "id": "4ad2718f",
   "metadata": {},
   "outputs": [
    {
     "data": {
      "image/png": "[encoded data removed]",
      "text/plain": [
       "<IPython.core.display.Image object>"
      ]
     },
     "metadata": {},
     "output_type": "display_data"
    }
   ],
   "source": [
    "from IPython.display import Image, display\n",
    "\n",
    "display(Image(graph.get_graph().draw_mermaid_png()))"
   ]
  },
  {
   "cell_type": "code",
   "execution_count": 99,
   "id": "1a6c09da",
   "metadata": {},
   "outputs": [
    {
     "name": "stdout",
     "output_type": "stream",
     "text": [
      "\n",
      " 메뉴 어시스턴트: 시그니처 스테이크는 가격이 ₩35,000이며, 다음과 같은 특징이 있습니다:\n",
      "\n",
      "- **주요 식재료**: 최상급 한우 등심, 로즈메리 감자, 그릴드 아스파라거스\n",
      "- **설명**: 셰프의 특제 시그니처 메뉴로, 21일간 건조 숙성한 최상급 한우 등심을 사용하여 미디엄 레어로 조리합니다. 이렇게 조리된 스테이크는 육즙을 최대한 보존하며, 로즈메리 향의 감자와 아삭한 그릴드 아스파라거스가 곁들여져 풍미를 더합니다. 또한, 레드와인 소스와 함께 제공되어 더욱 풍부한 맛을 경험할 수 있습니다.\n",
      "\n",
      "이 메뉴는 고급스러운 식사를 원하시는 분들께 추천드립니다.\n",
      "종료\n"
     ]
    }
   ],
   "source": [
    "while True:\n",
    "    init_state = {'user_query': ''}\n",
    "    graph.invoke(init_state)\n",
    "    continue_chat = input('다른 질문이 있으신가요?(y/n): ').lower()\n",
    "    if continue_chat != 'y':\n",
    "        print('종료')\n",
    "        break"
   ]
  }
 ],
 "metadata": {
  "kernelspec": {
   "display_name": "langgraph-work-pTlZSBnJ-py3.11",
   "language": "python",
   "name": "python3"
  },
  "language_info": {
   "codemirror_mode": {
    "name": "ipython",
    "version": 3
   },
   "file_extension": ".py",
   "mimetype": "text/x-python",
   "name": "python",
   "nbconvert_exporter": "python",
   "pygments_lexer": "ipython3",
   "version": "3.11.9"
  }
 },
 "nbformat": 4,
 "nbformat_minor": 5
}
