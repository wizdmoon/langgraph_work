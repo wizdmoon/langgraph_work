{
 "cells": [
  {
   "cell_type": "code",
   "execution_count": 1,
   "id": "b9c4a964",
   "metadata": {},
   "outputs": [
    {
     "name": "stderr",
     "output_type": "stream",
     "text": [
      "Failed to send telemetry event ClientStartEvent: capture() takes 1 positional argument but 3 were given\n",
      "Failed to send telemetry event ClientCreateCollectionEvent: capture() takes 1 positional argument but 3 were given\n",
      "Failed to send telemetry event CollectionQueryEvent: capture() takes 1 positional argument but 3 were given\n"
     ]
    },
    {
     "name": "stdout",
     "output_type": "stream",
     "text": [
      "검색 결과: 2개\n"
     ]
    }
   ],
   "source": [
    "from langchain_chroma import Chroma\n",
    "from langchain_openai import OpenAIEmbeddings\n",
    "\n",
    "embeddings_model = OpenAIEmbeddings(model='text-embedding-3-small')\n",
    "\n",
    "menu_db = Chroma(\n",
    "    embedding_function=embeddings_model,\n",
    "    collection_name='restaurant_menu',\n",
    "    persist_directory='./chroma_db'\n",
    ")\n",
    "\n",
    "menu_retriever = menu_db.as_retriever(\n",
    "    search_kwargs={'k': 2}\n",
    ")\n",
    "\n",
    "query = '시그니처 스테이크의 가격과 특징은 무엇인가요?'\n",
    "docs = menu_retriever.invoke(query)\n",
    "print(f'검색 결과: {len(docs)}개')\n"
   ]
  },
  {
   "cell_type": "code",
   "execution_count": 2,
   "id": "5e36f1e8",
   "metadata": {},
   "outputs": [
    {
     "name": "stderr",
     "output_type": "stream",
     "text": [
      "Failed to send telemetry event ClientStartEvent: capture() takes 1 positional argument but 3 were given\n",
      "Failed to send telemetry event ClientCreateCollectionEvent: capture() takes 1 positional argument but 3 were given\n",
      "Failed to send telemetry event CollectionQueryEvent: capture() takes 1 positional argument but 3 were given\n"
     ]
    },
    {
     "name": "stdout",
     "output_type": "stream",
     "text": [
      "검색 결과: 2개\n"
     ]
    }
   ],
   "source": [
    "wine_db = Chroma(\n",
    "    embedding_function=embeddings_model,\n",
    "    collection_name='restaurant_wine',\n",
    "    persist_directory='./chroma_db'\n",
    ")\n",
    "\n",
    "wine_retriever = wine_db.as_retriever(\n",
    "    search_kwargs={'k': 2}\n",
    ")\n",
    "\n",
    "query = '스테이크와 어울리는 와인을 추천해주세요'\n",
    "docs = wine_retriever.invoke(query)\n",
    "print(f'검색 결과: {len(docs)}개')"
   ]
  },
  {
   "cell_type": "code",
   "execution_count": null,
   "id": "62d61e15",
   "metadata": {},
   "outputs": [],
   "source": [
    "from langgraph.graph import MessagesState\n",
    "from typing import List\n",
    "from langchain_core.documents import Document\n",
    "\n",
    "class GraphState(MessagesState):\n",
    "    # messages 키를 기본적으로 제공\n",
    "    documents: List[Document]\n",
    "    grade: float\n",
    "    num_generation: int\n",
    "    last_user_message: str"
   ]
  },
  {
   "cell_type": "code",
   "execution_count": 4,
   "id": "cae0c7fe",
   "metadata": {},
   "outputs": [
    {
     "name": "stdout",
     "output_type": "stream",
     "text": [
      "제공된 메뉴에는 채식주의자를 위한 옵션이 포함되어 있지 않습니다. 하지만, 연어 타르타르와 같은 메뉴는 해산물이 포함되어 있으므로 채식주의자에게는 적합하지 않습니다. 만약 채식 메뉴가 필요하시다면, 별도로 채식 옵션을 요청하시거나 다른 메뉴를 참고하시는 것이 좋습니다.\n"
     ]
    }
   ],
   "source": [
    "from langchain_openai import ChatOpenAI\n",
    "from langchain_core.prompts import ChatPromptTemplate\n",
    "from langchain_core.output_parsers import StrOutputParser\n",
    "from langchain_core.runnables import RunnablePassthrough\n",
    "\n",
    "# LLM 모델 \n",
    "llm = ChatOpenAI(model=\"gpt-4o-mini\")\n",
    "\n",
    "# RAG 체인 구성\n",
    "def format_docs(docs):\n",
    "    return \"\\n\\n\".join(doc.page_content for doc in docs)\n",
    "\n",
    "system = \"\"\"\n",
    "You are a helpful assistant. Use the following context to answer the user's question:\n",
    "\n",
    "[Context]\n",
    "{context}\n",
    "\"\"\"\n",
    "\n",
    "prompt = ChatPromptTemplate.from_messages([\n",
    "    (\"system\", system),\n",
    "    (\"human\", \"{question}\")\n",
    "])\n",
    "\n",
    "# 검색기 정의\n",
    "retriever = menu_db.as_retriever(\n",
    "    search_kwargs={\"k\": 2}\n",
    ")\n",
    "\n",
    "# RAG 체인 구성\n",
    "rag_chain = (\n",
    "    {\"context\": retriever | format_docs, \"question\": RunnablePassthrough()}\n",
    "    | prompt\n",
    "    | llm\n",
    "    | StrOutputParser()\n",
    ")\n",
    "\n",
    "# RAG 체인 실행\n",
    "query = \"채식주의자를 위한 메뉴를 추천해주세요.\"\n",
    "response = rag_chain.invoke(query)\n",
    "\n",
    "# 답변 출력\n",
    "print(response)"
   ]
  },
  {
   "cell_type": "code",
   "execution_count": null,
   "id": "5b650070",
   "metadata": {},
   "outputs": [],
   "source": [
    "from langchain_core.messages import AIMessage, HumanMessage\n",
    "\n",
    "# RAG 수행 함수 정의\n",
    "def retrieve_and_respond(state: GraphState):\n",
    "    # last_human_message = state['messages'][-1]\n",
    "    # print('state[messages]: ',state['messages'])\n",
    "    # print('ㄴㄴㄴ', last_human_message['HumanMessage'])\n",
    "    if \"last_user_message\" not in state:\n",
    "        last_human_message = state['messages'][-1]\n",
    "        query = last_human_message.content\n",
    "        state[\"last_user_message\"] = query\n",
    "    else:\n",
    "        query = state[\"last_user_message\"]\n",
    "\n",
    "    # HumanMessage 객체의 content 속성에 접근\n",
    "    query = last_human_message.content\n",
    "    \n",
    "    # 문서 검색\n",
    "    retrieved_docs = retriever.invoke(query)\n",
    "    \n",
    "    # 응답 생성\n",
    "    response = rag_chain.invoke(query)\n",
    "    \n",
    "    # 검색된 문서와 응답을 상태에 저장\n",
    "    return {\n",
    "        \"messages\": [AIMessage(content=response)],\n",
    "        \"documents\": retrieved_docs\n",
    "    }"
   ]
  },
  {
   "cell_type": "code",
   "execution_count": null,
   "id": "f9df167f",
   "metadata": {},
   "outputs": [],
   "source": [
    "from pydantic import BaseModel, Field\n",
    "\n",
    "class GradeResponse(BaseModel):\n",
    "    \"A score for answers\"\n",
    "    score: float = Field(..., ge=0, le=1, description=\"A score from 0 to 1, where 1 is perfect\")\n",
    "    explanation: str = Field(..., description=\"An explanation for the given score\")\n",
    "\n",
    "# 답변 품질 평가 함수\n",
    "def grade_answer(state: GraphState):\n",
    "    messages = state['messages']\n",
    "    question = messages[-2].content\n",
    "    answer = messages[-1].content\n",
    "    context = format_docs(state['documents'])\n",
    "\n",
    "    # grading_system = \"\"\"You are an expert grader. \n",
    "    # Grade the following answer based on its relevance and accuracy to the question, considering the given context. \n",
    "    # Provide a score from 0 to 1, where 1 is perfect, along with an explanation.\"\"\"\n",
    "\n",
    "    grading_system = \"\"\" \n",
    "    당신은 전문가 채점자입니다. 당신의 임무는 두 가지를 모두 바탕으로 답을 **엄격히** 평가하는 것입니다:\n",
    "    1. 질문과의 관련성\n",
    "    2. 제공된 컨텍스트의 사용\n",
    "\n",
    "    답변이 문맥을 적절히 활용하지 못하거나 문맥이 질문과 무관한 경우, 답변이 정중하거나 합리적으로 보일지라도 **낮은 점수**를 주세요. \n",
    "    question 내용에서 context에 없는 메뉴를 찾으면 특히 낮은 점수를 주세요.\n",
    "    answer 내용에 \"정보가 없습니다\" 내용이 있으면 더 낮은 점수를 주세요.\n",
    "    답변이 반복적이거나 관련 응답을 여러 번 제공하지 않는 경우 **점수를 벌점**해야 합니다.\n",
    "    답변이 \"맥락은 관련이 없다\"고 인정하더라도, 제공된 문맥을 사용하지 않았기 때문에 **낮은 점수** (≤ 0.3)를 주어야 합니다.\n",
    "\n",
    "    문맥이 직접적으로 뒷받침하지 않는 한 정중한 거절이나 반복적인 답변에 대해 높은 점수를 주지 마세요.\n",
    "\n",
    "    다음 규칙을 사용하세요:\n",
    "    - 문맥을 이용한 완벽한 답변: 1.0\n",
    "    - 부분적으로 올바르지만 모호한 문맥 사용: 0.5–0.7\n",
    "    - 답변이 컨텍스트를 사용하지 않거나 전혀 사용할 수 없습니다: 0.0–0.3\n",
    "    \"\"\"\n",
    "\n",
    "    grading_prompt = ChatPromptTemplate.from_messages([\n",
    "        (\"system\", grading_system),\n",
    "        (\"human\", \"[Question]\\n{question}\\n\\n[Context]\\n{context}\\n\\n[Answer]\\n{answer}\\n\\n[Grade]\\n\")\n",
    "    ])\n",
    "    \n",
    "    grading_chain = grading_prompt | llm.with_structured_output(schema=GradeResponse)\n",
    "    \n",
    "    grade_response = grading_chain.invoke({\n",
    "        \"question\": question,\n",
    "        \"context\": context,\n",
    "        \"answer\": answer\n",
    "    })\n",
    "\n",
    "    # 답변 생성 횟수를 증가 \n",
    "    num_generation = state.get('num_generation', 0)\n",
    "    num_generation += 1 \n",
    "    \n",
    "    return {\"grade\": grade_response.score, \"num_generation\": num_generation}"
   ]
  },
  {
   "cell_type": "code",
   "execution_count": 7,
   "id": "3323161f",
   "metadata": {},
   "outputs": [],
   "source": [
    "from typing import Literal\n",
    "\n",
    "\n",
    "def should_retry(state: GraphState) -> Literal[\"retrieve_and_respond\", \"generate\"]:\n",
    "    print(\"----GRADTING---\")\n",
    "    print(\"Grade Score: \", state[\"grade\"])\n",
    "\n",
    "    # 답변 생성 횟수가 3회 이상이면 \"generate\"를 반환\n",
    "    if state[\"num_generation\"] > 2: \n",
    "        return \"generate\"    \n",
    "    \n",
    "    # 답변 품질 평가점수가 0.7 미만이면 RAG 체인을 다시 실행 \n",
    "    if state[\"grade\"] < 0.7:  \n",
    "        return \"retrieve_and_respond\"\n",
    "    else:\n",
    "        return \"generate\""
   ]
  },
  {
   "cell_type": "code",
   "execution_count": 8,
   "id": "a7b43782",
   "metadata": {},
   "outputs": [
    {
     "data": {
      "image/png": "[encoded data removed]",
      "text/plain": [
       "<IPython.core.display.Image object>"
      ]
     },
     "metadata": {},
     "output_type": "display_data"
    }
   ],
   "source": [
    "from langgraph.graph import StateGraph, START, END\n",
    "from typing import TypedDict\n",
    "from IPython.display import Image, display\n",
    "\n",
    "# 그래프 설정\n",
    "builder = StateGraph(GraphState)\n",
    "builder.add_node(\"retrieve_and_respond\", retrieve_and_respond)\n",
    "builder.add_node(\"grade_answer\", grade_answer)\n",
    "\n",
    "builder.add_edge(START, \"retrieve_and_respond\")\n",
    "builder.add_edge(\"retrieve_and_respond\", \"grade_answer\")\n",
    "builder.add_conditional_edges(\n",
    "    \"grade_answer\",\n",
    "    should_retry,\n",
    "    {\n",
    "        \"retrieve_and_respond\": \"retrieve_and_respond\",\n",
    "        \"generate\": END\n",
    "    }\n",
    ")\n",
    "\n",
    "# 그래프 컴파일\n",
    "graph = builder.compile()\n",
    "\n",
    "# 그래프 시각화\n",
    "display(Image(graph.get_graph().draw_mermaid_png()))"
   ]
  },
  {
   "cell_type": "code",
   "execution_count": 9,
   "id": "34530c3d",
   "metadata": {},
   "outputs": [
    {
     "name": "stdout",
     "output_type": "stream",
     "text": [
      "state[messages]:  [HumanMessage(content='마기꾼.', additional_kwargs={}, response_metadata={}, id='debdd05b-40cf-4758-add7-70732b2f855e')]\n",
      "----GRADTING---\n",
      "Grade Score:  0.0\n",
      "state[messages]:  [HumanMessage(content='마기꾼.', additional_kwargs={}, response_metadata={}, id='debdd05b-40cf-4758-add7-70732b2f855e'), AIMessage(content='\"마기꾼\"은 \"마법사\"나 \"마법사 같은 사람\"을 의미하는 단어로, 일반적으로 마법이나 특별한 능력을 가진 사람을 지칭하는 표현입니다. 혹시 더 구체적인 질문이나 정보가 필요하신가요?', additional_kwargs={}, response_metadata={}, id='b3dd206b-0769-407c-8fd6-b5e169f7b1f2')]\n",
      "----GRADTING---\n",
      "Grade Score:  0.5\n",
      "state[messages]:  [HumanMessage(content='마기꾼.', additional_kwargs={}, response_metadata={}, id='debdd05b-40cf-4758-add7-70732b2f855e'), AIMessage(content='\"마기꾼\"은 \"마법사\"나 \"마법사 같은 사람\"을 의미하는 단어로, 일반적으로 마법이나 특별한 능력을 가진 사람을 지칭하는 표현입니다. 혹시 더 구체적인 질문이나 정보가 필요하신가요?', additional_kwargs={}, response_metadata={}, id='b3dd206b-0769-407c-8fd6-b5e169f7b1f2'), AIMessage(content='\"마기꾼\"이라는 단어에 대해 더 궁금한 점이 있으신가요? 예를 들어, 이 단어의 유래, 사용되는 문맥, 또는 관련된 문화적 요소에 대해 질문하시면 더 자세히 설명해 드릴 수 있습니다.', additional_kwargs={}, response_metadata={}, id='e5f0523e-6b4f-4c08-be6a-91ad6b48c02d')]\n",
      "----GRADTING---\n",
      "Grade Score:  1.0\n",
      "최종 상태: {'messages': [HumanMessage(content='마기꾼.', additional_kwargs={}, response_metadata={}, id='debdd05b-40cf-4758-add7-70732b2f855e'), AIMessage(content='\"마기꾼\"은 \"마법사\"나 \"마법사 같은 사람\"을 의미하는 단어로, 일반적으로 마법이나 특별한 능력을 가진 사람을 지칭하는 표현입니다. 혹시 더 구체적인 질문이나 정보가 필요하신가요?', additional_kwargs={}, response_metadata={}, id='b3dd206b-0769-407c-8fd6-b5e169f7b1f2'), AIMessage(content='\"마기꾼\"이라는 단어에 대해 더 궁금한 점이 있으신가요? 예를 들어, 이 단어의 유래, 사용되는 문맥, 또는 관련된 문화적 요소에 대해 질문하시면 더 자세히 설명해 드릴 수 있습니다.', additional_kwargs={}, response_metadata={}, id='e5f0523e-6b4f-4c08-be6a-91ad6b48c02d'), AIMessage(content='\"마기꾼\"이라는 단어는 \"마기\"와 \"꾼\"이 결합된 형태로, 일반적으로 \"마기\"는 마법이나 마술과 관련된 의미를 지니고 있습니다. \"꾼\"은 어떤 특정한 일을 잘하는 사람을 의미하는 접미사로, 보통 직업이나 특정한 행위에 능숙한 사람을 지칭합니다.\\n\\n\"마기꾼\"은 마술이나 마법과 관련된 일을 하는 사람, 즉 마법사나 마술사 같은 의미로 사용될 수 있습니다. 이 단어는 판타지 문학, 영화, 게임 등에서 자주 등장하며, 마법이나 신비로운 능력을 지닌 캐릭터를 묘사하는 데 쓰입니다.\\n\\n문화적으로는 마법이나 마술이 주제로 다뤄지는 다양한 작품에서 \"마기꾼\"의 캐릭터가 등장하곤 합니다. 예를 들어, J.K. 롤링의 해리 포터 시리즈나 J.R.R. 톨킨의 반지의 제왕과 같은 판타지 장르에서 마법을 사용하는 인물들을 통해 이 단어의 의미가 더욱 부각됩니다.\\n\\n이와 관련하여 더 궁금한 점이 있으신가요? 예를 들어, 특정 문맥에서의 사용 예시나 관련된 작품에 대해 질문해 주시면 좋습니다.', additional_kwargs={}, response_metadata={}, id='7f48d1f2-16a5-4cf4-8480-c74357c2c4e9')], 'documents': [Document(metadata={'menu_name': '치킨 콘피', 'menu_number': 9, 'source': './data/restaurant_menu.txt'}, page_content='9. 치킨 콘피\\n   • 가격: ₩23,000\\n   • 주요 식재료: 닭다리살, 허브, 마늘, 올리브 오일\\n   • 설명: 닭다리살을 허브와 마늘을 넣은 올리브 오일에 저온에서 장시간 조리한 프랑스 요리입니다. 부드럽고 촉촉한 육질이 특징이며, 로즈메리 감자와 제철 채소를 곁들여 제공합니다. 레몬 제스트를 뿌려 상큼한 향을 더했습니다.'), Document(metadata={'menu_name': '티라미수', 'menu_number': 10, 'source': './data/restaurant_menu.txt'}, page_content='10. 티라미수\\n    • 가격: ₩9,000\\n    • 주요 식재료: 마스카포네 치즈, 에스프레소, 카카오 파우더, 레이디핑거 비스킷\\n    • 설명: 부드러운 마스카포네 치즈 크림과 에스프레소에 적신 레이디핑거 비스킷을 층층이 쌓아 만든 이탈리아 정통 디저트입니다. 고소한 카카오 파우더를 듬뿍 뿌려 풍미를 더했습니다. 커피의 쌉싸름함과 치즈의 부드러움이 조화롭게 어우러집니다.')], 'grade': 1.0, 'num_generation': 3}\n"
     ]
    }
   ],
   "source": [
    "# 초기 상태\n",
    "initial_state = {\n",
    "    \"messages\": [HumanMessage(content=\"마기꾼.\")],\n",
    "}\n",
    "\n",
    "# 그래프 실행 \n",
    "final_state = graph.invoke(initial_state)\n",
    "\n",
    "# 최종 상태 출력\n",
    "print(\"최종 상태:\", final_state)"
   ]
  },
  {
   "cell_type": "code",
   "execution_count": null,
   "id": "9a323c8d",
   "metadata": {},
   "outputs": [],
   "source": []
  }
 ],
 "metadata": {
  "kernelspec": {
   "display_name": "langgraph-work-pTlZSBnJ-py3.11",
   "language": "python",
   "name": "python3"
  },
  "language_info": {
   "codemirror_mode": {
    "name": "ipython",
    "version": 3
   },
   "file_extension": ".py",
   "mimetype": "text/x-python",
   "name": "python",
   "nbconvert_exporter": "python",
   "pygments_lexer": "ipython3",
   "version": "3.11.9"
  }
 },
 "nbformat": 4,
 "nbformat_minor": 5
}
