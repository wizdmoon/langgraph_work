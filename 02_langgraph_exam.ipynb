{
 "cells": [
  {
   "cell_type": "code",
   "execution_count": 60,
   "id": "c3a8aad8",
   "metadata": {},
   "outputs": [
    {
     "data": {
      "text/plain": [
       "True"
      ]
     },
     "execution_count": 60,
     "metadata": {},
     "output_type": "execute_result"
    }
   ],
   "source": [
    "from dotenv import load_dotenv\n",
    "\n",
    "load_dotenv()"
   ]
  },
  {
   "cell_type": "code",
   "execution_count": 61,
   "id": "488aa61f",
   "metadata": {},
   "outputs": [],
   "source": [
    "from typing import TypedDict\n",
    "\n",
    "# 상태 Schema 정의 : 사용자 선호도, 추천 메뉴, 메뉴 정보\n",
    "class MenuState(TypedDict):\n",
    "    user_preference: str\n",
    "    recommended_menu: str\n",
    "    menu_info: str"
   ]
  },
  {
   "cell_type": "code",
   "execution_count": 62,
   "id": "0e76484a",
   "metadata": {},
   "outputs": [],
   "source": [
    "import random\n",
    "\n",
    "def get_user_preference(state: MenuState) -> MenuState:\n",
    "    print('-- 랜덤 사용자 선호도 생성 --')\n",
    "    preferences = ['육류', '해산물', '채식', '아무거나']\n",
    "    preference = random.choice(preferences)\n",
    "    print(f'생성된 선호도: {preference}')\n",
    "\n",
    "    return {'user_preference': preference}"
   ]
  },
  {
   "cell_type": "code",
   "execution_count": 63,
   "id": "aa08fa00",
   "metadata": {},
   "outputs": [],
   "source": [
    "def recommend_menu(state: MenuState) -> MenuState:\n",
    "    print('-- 메뉴 추천 --')\n",
    "    preference = state['user_preference']\n",
    "    if preference == '육류':\n",
    "        menu = '스테이크'\n",
    "    elif preference == '해산물':\n",
    "        menu = '랍스터 파스타'\n",
    "    elif preference == '채식':\n",
    "        menu = '그린 샐러드'\n",
    "    else:\n",
    "        menu = '오늘의 쉐프 특선'\n",
    "    \n",
    "    print(f'추천 메뉴: {menu}')\n",
    "\n",
    "    return {'recommended_menu': menu}"
   ]
  },
  {
   "cell_type": "code",
   "execution_count": 64,
   "id": "31a7523a",
   "metadata": {},
   "outputs": [],
   "source": [
    "def provide_menu_info(state: MenuState) -> MenuState:\n",
    "    print(\"---메뉴 정보 제공---\")\n",
    "    menu = state['recommended_menu']\n",
    "    if menu == \"스테이크\":\n",
    "        info = \"최상급 소고기로 만든 juicy한 스테이크입니다. 가격: 30,000원\"\n",
    "    elif menu == \"랍스터 파스타\":\n",
    "        info = \"신선한 랍스터와 al dente 파스타의 조화. 가격: 28,000원\"\n",
    "    elif menu == \"그린 샐러드\":\n",
    "        info = \"신선한 유기농 채소로 만든 건강한 샐러드. 가격: 15,000원\"\n",
    "    else:\n",
    "        info = \"쉐프가 그날그날 엄선한 특별 요리입니다. 가격: 35,000원\"\n",
    "    print(f\"메뉴 정보: {info}\")\n",
    "    return {\"menu_info\": info}"
   ]
  },
  {
   "cell_type": "code",
   "execution_count": 65,
   "id": "d51bd893",
   "metadata": {},
   "outputs": [],
   "source": [
    "from langgraph.graph import StateGraph, START, END\n",
    "\n",
    "builder = StateGraph(MenuState)\n",
    "\n",
    "builder.add_node('get_user_preference', get_user_preference)\n",
    "builder.add_node('recommend_menu', recommend_menu)\n",
    "builder.add_node('provide_menu_info', provide_menu_info)\n",
    "\n",
    "builder.add_edge(START, 'get_user_preference')\n",
    "builder.add_edge('get_user_preference', 'recommend_menu')\n",
    "builder.add_edge('recommend_menu', 'provide_menu_info')\n",
    "builder.add_edge('provide_menu_info', END)\n",
    "\n",
    "graph = builder.compile()"
   ]
  },
  {
   "cell_type": "code",
   "execution_count": 66,
   "id": "5e011374",
   "metadata": {},
   "outputs": [
    {
     "data": {
      "image/png": "[encoded data removed]",
      "text/plain": [
       "<IPython.core.display.Image object>"
      ]
     },
     "metadata": {},
     "output_type": "display_data"
    }
   ],
   "source": [
    "from IPython.display import Image, display\n",
    "\n",
    "display(Image(graph.get_graph().draw_mermaid_png()))"
   ]
  },
  {
   "cell_type": "code",
   "execution_count": 69,
   "id": "26796a44",
   "metadata": {},
   "outputs": [
    {
     "name": "stdout",
     "output_type": "stream",
     "text": [
      "-- 랜덤 사용자 선호도 생성 --\n",
      "생성된 선호도: 아무거나\n",
      "-- 메뉴 추천 --\n",
      "추천 메뉴: 오늘의 쉐프 특선\n",
      "---메뉴 정보 제공---\n",
      "메뉴 정보: 쉐프가 그날그날 엄선한 특별 요리입니다. 가격: 35,000원\n",
      "\n",
      " === 결과 ===\n",
      "선호도:  아무거나\n",
      "추천 메뉴:  오늘의 쉐프 특선\n",
      "메뉴 정보:  쉐프가 그날그날 엄선한 특별 요리입니다. 가격: 35,000원\n",
      "=================================\n",
      "\n",
      "-- 랜덤 사용자 선호도 생성 --\n",
      "생성된 선호도: 육류\n",
      "-- 메뉴 추천 --\n",
      "추천 메뉴: 스테이크\n",
      "---메뉴 정보 제공---\n",
      "메뉴 정보: 최상급 소고기로 만든 juicy한 스테이크입니다. 가격: 30,000원\n",
      "\n",
      " === 결과 ===\n",
      "선호도:  육류\n",
      "추천 메뉴:  스테이크\n",
      "메뉴 정보:  최상급 소고기로 만든 juicy한 스테이크입니다. 가격: 30,000원\n",
      "=================================\n",
      "\n"
     ]
    }
   ],
   "source": [
    "def print_result(result: MenuState):\n",
    "    print('\\n === 결과 ===')\n",
    "    print('선호도: ', result['user_preference'])\n",
    "    print('추천 메뉴: ', result['recommended_menu'])\n",
    "    print('메뉴 정보: ', result['menu_info'])\n",
    "    print('=================================')\n",
    "\n",
    "inputs = {'user_preference': ''}\n",
    "\n",
    "for _ in range(2):\n",
    "    result = graph.invoke(inputs)\n",
    "    print_result(result)\n",
    "    print()"
   ]
  },
  {
   "cell_type": "code",
   "execution_count": null,
   "id": "66211291",
   "metadata": {},
   "outputs": [
    {
     "name": "stdout",
     "output_type": "stream",
     "text": [
      "hello!! spring\n"
     ]
    }
   ],
   "source": []
  },
  {
   "cell_type": "code",
   "execution_count": null,
   "id": "861a3396",
   "metadata": {},
   "outputs": [],
   "source": []
  }
 ],
 "metadata": {
  "kernelspec": {
   "display_name": "langgraph-work-pTlZSBnJ-py3.11",
   "language": "python",
   "name": "python3"
  },
  "language_info": {
   "codemirror_mode": {
    "name": "ipython",
    "version": 3
   },
   "file_extension": ".py",
   "mimetype": "text/x-python",
   "name": "python",
   "nbconvert_exporter": "python",
   "pygments_lexer": "ipython3",
   "version": "3.11.9"
  }
 },
 "nbformat": 4,
 "nbformat_minor": 5
}
