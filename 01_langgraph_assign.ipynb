{
 "cells": [
  {
   "cell_type": "code",
   "execution_count": 21,
   "id": "4ab5f6b2",
   "metadata": {},
   "outputs": [
    {
     "data": {
      "text/plain": [
       "True"
      ]
     },
     "execution_count": 21,
     "metadata": {},
     "output_type": "execute_result"
    }
   ],
   "source": [
    "from dotenv import load_dotenv\n",
    "load_dotenv()"
   ]
  },
  {
   "cell_type": "code",
   "execution_count": 22,
   "id": "881f3605",
   "metadata": {},
   "outputs": [],
   "source": [
    "from langchain_core.documents import Document\n",
    "from langchain.tools import tool\n",
    "from langchain_openai import ChatOpenAI"
   ]
  },
  {
   "cell_type": "code",
   "execution_count": 23,
   "id": "d0789542",
   "metadata": {},
   "outputs": [],
   "source": [
    "animal_facts = {\n",
    "    \"강아지\": \"강아지는 인간과 가장 친한 반려동물 중 하나입니다. 충성심이 강하고 활발합니다.\",\n",
    "    \"고양이\": \"고양이는 독립적인 성격을 가진 반려동물로, 깨끗하고 조용한 성격을 가졌습니다.\",\n",
    "    \"코끼리\": \"코끼리는 육상 동물 중 가장 큰 동물로, 매우 높은 지능과 사회성을 지닙니다.\",\n",
    "    \"기린\": \"기린은 목이 매우 길며, 주로 아프리카 사바나에서 서식합니다.\"\n",
    "}"
   ]
  },
  {
   "cell_type": "code",
   "execution_count": 24,
   "id": "d36eb74b",
   "metadata": {},
   "outputs": [],
   "source": [
    "@tool\n",
    "def search_animal(query: str) ->list[Document]:\n",
    "    \"\"\"\n",
    "    이름에 해당하는 동물 정보를 간단히 반환합니다.\n",
    "    \"\"\"\n",
    "    if query in animal_facts:\n",
    "        return [Document(page_content=animal_facts[query])]\n",
    "    return [Document(page_content=\"해동 동물 정보를 찾을 수 없습니다.\")]"
   ]
  },
  {
   "cell_type": "code",
   "execution_count": 25,
   "id": "defe9033",
   "metadata": {},
   "outputs": [],
   "source": [
    "from datetime import datetime\n",
    "from langchain_core.prompts import ChatPromptTemplate\n",
    "from langchain_core.runnables import chain, RunnableConfig\n",
    "\n",
    "today = datetime.today().strftime('%Y-%m-%d')\n",
    "\n",
    "prompt = ChatPromptTemplate([\n",
    "    ('system', f\"You are helpful AI assistant. Today's date is {today}.\"),\n",
    "    ('human', '{user_input}'),\n",
    "    ('placeholder', '{message}')\n",
    "])\n",
    "\n",
    "llm = ChatOpenAI(model='gpt-4o-mini')\n",
    "llm_with_tools = llm.bind_tools(tools=[search_animal])\n",
    "llm_chain = prompt | llm_with_tools\n",
    "\n",
    "@chain\n",
    "def web_search_chain(user_input: str):\n",
    "    input_ = {'user_input': user_input}\n",
    "    ai_msg = llm_chain.invoke(input_)\n",
    "\n",
    "    tool_msg = search_animal.batch(ai_msg.tool_calls)\n",
    "\n",
    "    return llm_chain.invoke({**input_, \"message\": [ai_msg, *tool_msg]})"
   ]
  },
  {
   "cell_type": "code",
   "execution_count": 26,
   "id": "7aa2a7f9",
   "metadata": {},
   "outputs": [
    {
     "name": "stdout",
     "output_type": "stream",
     "text": [
      "\n",
      " 최종 응답:\n",
      " 고양이는 독립적인 성격을 가진 반려동물로, 깨끗하고 조용한 성격을 가지고 있습니다.\n"
     ]
    }
   ],
   "source": [
    "question = '고양이에 대해 알려줘'\n",
    "response = web_search_chain.invoke(question)\n",
    "print('\\n 최종 응답:\\n', response.content)"
   ]
  },
  {
   "cell_type": "code",
   "execution_count": null,
   "id": "41dc64c2",
   "metadata": {},
   "outputs": [],
   "source": []
  }
 ],
 "metadata": {
  "kernelspec": {
   "display_name": "langgraph-work-pTlZSBnJ-py3.11",
   "language": "python",
   "name": "python3"
  },
  "language_info": {
   "codemirror_mode": {
    "name": "ipython",
    "version": 3
   },
   "file_extension": ".py",
   "mimetype": "text/x-python",
   "name": "python",
   "nbconvert_exporter": "python",
   "pygments_lexer": "ipython3",
   "version": "3.11.9"
  }
 },
 "nbformat": 4,
 "nbformat_minor": 5
}
